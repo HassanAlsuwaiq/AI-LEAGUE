{
  "nbformat": 4,
  "nbformat_minor": 0,
  "metadata": {
    "colab": {
      "provenance": [],
      "gpuType": "T4"
    },
    "kernelspec": {
      "name": "python3",
      "display_name": "Python 3"
    },
    "language_info": {
      "name": "python"
    },
    "accelerator": "GPU"
  },
  "cells": [
    {
      "cell_type": "code",
      "source": [
        "!nvidia-smi"
      ],
      "metadata": {
        "colab": {
          "base_uri": "https://localhost:8080/"
        },
        "id": "qZ8pjzqqPkqz",
        "outputId": "e3552adb-f91a-429f-955b-608a9e1b4d88"
      },
      "execution_count": null,
      "outputs": [
        {
          "output_type": "stream",
          "name": "stdout",
          "text": [
            "Sun Apr  6 14:47:46 2025       \n",
            "+-----------------------------------------------------------------------------------------+\n",
            "| NVIDIA-SMI 550.54.15              Driver Version: 550.54.15      CUDA Version: 12.4     |\n",
            "|-----------------------------------------+------------------------+----------------------+\n",
            "| GPU  Name                 Persistence-M | Bus-Id          Disp.A | Volatile Uncorr. ECC |\n",
            "| Fan  Temp   Perf          Pwr:Usage/Cap |           Memory-Usage | GPU-Util  Compute M. |\n",
            "|                                         |                        |               MIG M. |\n",
            "|=========================================+========================+======================|\n",
            "|   0  Tesla T4                       Off |   00000000:00:04.0 Off |                    0 |\n",
            "| N/A   38C    P8              9W /   70W |       0MiB /  15360MiB |      0%      Default |\n",
            "|                                         |                        |                  N/A |\n",
            "+-----------------------------------------+------------------------+----------------------+\n",
            "                                                                                         \n",
            "+-----------------------------------------------------------------------------------------+\n",
            "| Processes:                                                                              |\n",
            "|  GPU   GI   CI        PID   Type   Process name                              GPU Memory |\n",
            "|        ID   ID                                                               Usage      |\n",
            "|=========================================================================================|\n",
            "|  No running processes found                                                             |\n",
            "+-----------------------------------------------------------------------------------------+\n"
          ]
        }
      ]
    },
    {
      "cell_type": "code",
      "execution_count": null,
      "metadata": {
        "colab": {
          "base_uri": "https://localhost:8080/"
        },
        "id": "EovCVfGyPPAJ",
        "outputId": "7f57c48a-05a6-4976-d4bc-eb0d123cd0e9"
      },
      "outputs": [
        {
          "output_type": "stream",
          "name": "stdout",
          "text": [
            "Collecting ultralytics\n",
            "  Downloading ultralytics-8.3.102-py3-none-any.whl.metadata (37 kB)\n",
            "Requirement already satisfied: numpy<=2.1.1,>=1.23.0 in /usr/local/lib/python3.11/dist-packages (from ultralytics) (2.0.2)\n",
            "Requirement already satisfied: matplotlib>=3.3.0 in /usr/local/lib/python3.11/dist-packages (from ultralytics) (3.10.0)\n",
            "Requirement already satisfied: opencv-python>=4.6.0 in /usr/local/lib/python3.11/dist-packages (from ultralytics) (4.11.0.86)\n",
            "Requirement already satisfied: pillow>=7.1.2 in /usr/local/lib/python3.11/dist-packages (from ultralytics) (11.1.0)\n",
            "Requirement already satisfied: pyyaml>=5.3.1 in /usr/local/lib/python3.11/dist-packages (from ultralytics) (6.0.2)\n",
            "Requirement already satisfied: requests>=2.23.0 in /usr/local/lib/python3.11/dist-packages (from ultralytics) (2.32.3)\n",
            "Requirement already satisfied: scipy>=1.4.1 in /usr/local/lib/python3.11/dist-packages (from ultralytics) (1.14.1)\n",
            "Requirement already satisfied: torch>=1.8.0 in /usr/local/lib/python3.11/dist-packages (from ultralytics) (2.6.0+cu124)\n",
            "Requirement already satisfied: torchvision>=0.9.0 in /usr/local/lib/python3.11/dist-packages (from ultralytics) (0.21.0+cu124)\n",
            "Requirement already satisfied: tqdm>=4.64.0 in /usr/local/lib/python3.11/dist-packages (from ultralytics) (4.67.1)\n",
            "Requirement already satisfied: psutil in /usr/local/lib/python3.11/dist-packages (from ultralytics) (5.9.5)\n",
            "Requirement already satisfied: py-cpuinfo in /usr/local/lib/python3.11/dist-packages (from ultralytics) (9.0.0)\n",
            "Requirement already satisfied: pandas>=1.1.4 in /usr/local/lib/python3.11/dist-packages (from ultralytics) (2.2.2)\n",
            "Requirement already satisfied: seaborn>=0.11.0 in /usr/local/lib/python3.11/dist-packages (from ultralytics) (0.13.2)\n",
            "Collecting ultralytics-thop>=2.0.0 (from ultralytics)\n",
            "  Downloading ultralytics_thop-2.0.14-py3-none-any.whl.metadata (9.4 kB)\n",
            "Requirement already satisfied: contourpy>=1.0.1 in /usr/local/lib/python3.11/dist-packages (from matplotlib>=3.3.0->ultralytics) (1.3.1)\n",
            "Requirement already satisfied: cycler>=0.10 in /usr/local/lib/python3.11/dist-packages (from matplotlib>=3.3.0->ultralytics) (0.12.1)\n",
            "Requirement already satisfied: fonttools>=4.22.0 in /usr/local/lib/python3.11/dist-packages (from matplotlib>=3.3.0->ultralytics) (4.56.0)\n",
            "Requirement already satisfied: kiwisolver>=1.3.1 in /usr/local/lib/python3.11/dist-packages (from matplotlib>=3.3.0->ultralytics) (1.4.8)\n",
            "Requirement already satisfied: packaging>=20.0 in /usr/local/lib/python3.11/dist-packages (from matplotlib>=3.3.0->ultralytics) (24.2)\n",
            "Requirement already satisfied: pyparsing>=2.3.1 in /usr/local/lib/python3.11/dist-packages (from matplotlib>=3.3.0->ultralytics) (3.2.3)\n",
            "Requirement already satisfied: python-dateutil>=2.7 in /usr/local/lib/python3.11/dist-packages (from matplotlib>=3.3.0->ultralytics) (2.8.2)\n",
            "Requirement already satisfied: pytz>=2020.1 in /usr/local/lib/python3.11/dist-packages (from pandas>=1.1.4->ultralytics) (2025.2)\n",
            "Requirement already satisfied: tzdata>=2022.7 in /usr/local/lib/python3.11/dist-packages (from pandas>=1.1.4->ultralytics) (2025.2)\n",
            "Requirement already satisfied: charset-normalizer<4,>=2 in /usr/local/lib/python3.11/dist-packages (from requests>=2.23.0->ultralytics) (3.4.1)\n",
            "Requirement already satisfied: idna<4,>=2.5 in /usr/local/lib/python3.11/dist-packages (from requests>=2.23.0->ultralytics) (3.10)\n",
            "Requirement already satisfied: urllib3<3,>=1.21.1 in /usr/local/lib/python3.11/dist-packages (from requests>=2.23.0->ultralytics) (2.3.0)\n",
            "Requirement already satisfied: certifi>=2017.4.17 in /usr/local/lib/python3.11/dist-packages (from requests>=2.23.0->ultralytics) (2025.1.31)\n",
            "Requirement already satisfied: filelock in /usr/local/lib/python3.11/dist-packages (from torch>=1.8.0->ultralytics) (3.18.0)\n",
            "Requirement already satisfied: typing-extensions>=4.10.0 in /usr/local/lib/python3.11/dist-packages (from torch>=1.8.0->ultralytics) (4.13.0)\n",
            "Requirement already satisfied: networkx in /usr/local/lib/python3.11/dist-packages (from torch>=1.8.0->ultralytics) (3.4.2)\n",
            "Requirement already satisfied: jinja2 in /usr/local/lib/python3.11/dist-packages (from torch>=1.8.0->ultralytics) (3.1.6)\n",
            "Requirement already satisfied: fsspec in /usr/local/lib/python3.11/dist-packages (from torch>=1.8.0->ultralytics) (2025.3.2)\n",
            "Collecting nvidia-cuda-nvrtc-cu12==12.4.127 (from torch>=1.8.0->ultralytics)\n",
            "  Downloading nvidia_cuda_nvrtc_cu12-12.4.127-py3-none-manylinux2014_x86_64.whl.metadata (1.5 kB)\n",
            "Collecting nvidia-cuda-runtime-cu12==12.4.127 (from torch>=1.8.0->ultralytics)\n",
            "  Downloading nvidia_cuda_runtime_cu12-12.4.127-py3-none-manylinux2014_x86_64.whl.metadata (1.5 kB)\n",
            "Collecting nvidia-cuda-cupti-cu12==12.4.127 (from torch>=1.8.0->ultralytics)\n",
            "  Downloading nvidia_cuda_cupti_cu12-12.4.127-py3-none-manylinux2014_x86_64.whl.metadata (1.6 kB)\n",
            "Collecting nvidia-cudnn-cu12==9.1.0.70 (from torch>=1.8.0->ultralytics)\n",
            "  Downloading nvidia_cudnn_cu12-9.1.0.70-py3-none-manylinux2014_x86_64.whl.metadata (1.6 kB)\n",
            "Collecting nvidia-cublas-cu12==12.4.5.8 (from torch>=1.8.0->ultralytics)\n",
            "  Downloading nvidia_cublas_cu12-12.4.5.8-py3-none-manylinux2014_x86_64.whl.metadata (1.5 kB)\n",
            "Collecting nvidia-cufft-cu12==11.2.1.3 (from torch>=1.8.0->ultralytics)\n",
            "  Downloading nvidia_cufft_cu12-11.2.1.3-py3-none-manylinux2014_x86_64.whl.metadata (1.5 kB)\n",
            "Collecting nvidia-curand-cu12==10.3.5.147 (from torch>=1.8.0->ultralytics)\n",
            "  Downloading nvidia_curand_cu12-10.3.5.147-py3-none-manylinux2014_x86_64.whl.metadata (1.5 kB)\n",
            "Collecting nvidia-cusolver-cu12==11.6.1.9 (from torch>=1.8.0->ultralytics)\n",
            "  Downloading nvidia_cusolver_cu12-11.6.1.9-py3-none-manylinux2014_x86_64.whl.metadata (1.6 kB)\n",
            "Collecting nvidia-cusparse-cu12==12.3.1.170 (from torch>=1.8.0->ultralytics)\n",
            "  Downloading nvidia_cusparse_cu12-12.3.1.170-py3-none-manylinux2014_x86_64.whl.metadata (1.6 kB)\n",
            "Requirement already satisfied: nvidia-cusparselt-cu12==0.6.2 in /usr/local/lib/python3.11/dist-packages (from torch>=1.8.0->ultralytics) (0.6.2)\n",
            "Requirement already satisfied: nvidia-nccl-cu12==2.21.5 in /usr/local/lib/python3.11/dist-packages (from torch>=1.8.0->ultralytics) (2.21.5)\n",
            "Requirement already satisfied: nvidia-nvtx-cu12==12.4.127 in /usr/local/lib/python3.11/dist-packages (from torch>=1.8.0->ultralytics) (12.4.127)\n",
            "Collecting nvidia-nvjitlink-cu12==12.4.127 (from torch>=1.8.0->ultralytics)\n",
            "  Downloading nvidia_nvjitlink_cu12-12.4.127-py3-none-manylinux2014_x86_64.whl.metadata (1.5 kB)\n",
            "Requirement already satisfied: triton==3.2.0 in /usr/local/lib/python3.11/dist-packages (from torch>=1.8.0->ultralytics) (3.2.0)\n",
            "Requirement already satisfied: sympy==1.13.1 in /usr/local/lib/python3.11/dist-packages (from torch>=1.8.0->ultralytics) (1.13.1)\n",
            "Requirement already satisfied: mpmath<1.4,>=1.1.0 in /usr/local/lib/python3.11/dist-packages (from sympy==1.13.1->torch>=1.8.0->ultralytics) (1.3.0)\n",
            "Requirement already satisfied: six>=1.5 in /usr/local/lib/python3.11/dist-packages (from python-dateutil>=2.7->matplotlib>=3.3.0->ultralytics) (1.17.0)\n",
            "Requirement already satisfied: MarkupSafe>=2.0 in /usr/local/lib/python3.11/dist-packages (from jinja2->torch>=1.8.0->ultralytics) (3.0.2)\n",
            "Downloading ultralytics-8.3.102-py3-none-any.whl (993 kB)\n",
            "\u001b[2K   \u001b[90m━━━━━━━━━━━━━━━━━━━━━━━━━━━━━━━━━━━━━━━━\u001b[0m \u001b[32m993.8/993.8 kB\u001b[0m \u001b[31m19.8 MB/s\u001b[0m eta \u001b[36m0:00:00\u001b[0m\n",
            "\u001b[?25hDownloading nvidia_cublas_cu12-12.4.5.8-py3-none-manylinux2014_x86_64.whl (363.4 MB)\n",
            "\u001b[2K   \u001b[90m━━━━━━━━━━━━━━━━━━━━━━━━━━━━━━━━━━━━━━━━\u001b[0m \u001b[32m363.4/363.4 MB\u001b[0m \u001b[31m3.6 MB/s\u001b[0m eta \u001b[36m0:00:00\u001b[0m\n",
            "\u001b[?25hDownloading nvidia_cuda_cupti_cu12-12.4.127-py3-none-manylinux2014_x86_64.whl (13.8 MB)\n",
            "\u001b[2K   \u001b[90m━━━━━━━━━━━━━━━━━━━━━━━━━━━━━━━━━━━━━━━━\u001b[0m \u001b[32m13.8/13.8 MB\u001b[0m \u001b[31m68.9 MB/s\u001b[0m eta \u001b[36m0:00:00\u001b[0m\n",
            "\u001b[?25hDownloading nvidia_cuda_nvrtc_cu12-12.4.127-py3-none-manylinux2014_x86_64.whl (24.6 MB)\n",
            "\u001b[2K   \u001b[90m━━━━━━━━━━━━━━━━━━━━━━━━━━━━━━━━━━━━━━━━\u001b[0m \u001b[32m24.6/24.6 MB\u001b[0m \u001b[31m53.6 MB/s\u001b[0m eta \u001b[36m0:00:00\u001b[0m\n",
            "\u001b[?25hDownloading nvidia_cuda_runtime_cu12-12.4.127-py3-none-manylinux2014_x86_64.whl (883 kB)\n",
            "\u001b[2K   \u001b[90m━━━━━━━━━━━━━━━━━━━━━━━━━━━━━━━━━━━━━━━━\u001b[0m \u001b[32m883.7/883.7 kB\u001b[0m \u001b[31m50.9 MB/s\u001b[0m eta \u001b[36m0:00:00\u001b[0m\n",
            "\u001b[?25hDownloading nvidia_cudnn_cu12-9.1.0.70-py3-none-manylinux2014_x86_64.whl (664.8 MB)\n",
            "\u001b[2K   \u001b[90m━━━━━━━━━━━━━━━━━━━━━━━━━━━━━━━━━━━━━━━━\u001b[0m \u001b[32m664.8/664.8 MB\u001b[0m \u001b[31m2.9 MB/s\u001b[0m eta \u001b[36m0:00:00\u001b[0m\n",
            "\u001b[?25hDownloading nvidia_cufft_cu12-11.2.1.3-py3-none-manylinux2014_x86_64.whl (211.5 MB)\n",
            "\u001b[2K   \u001b[90m━━━━━━━━━━━━━━━━━━━━━━━━━━━━━━━━━━━━━━━━\u001b[0m \u001b[32m211.5/211.5 MB\u001b[0m \u001b[31m5.7 MB/s\u001b[0m eta \u001b[36m0:00:00\u001b[0m\n",
            "\u001b[?25hDownloading nvidia_curand_cu12-10.3.5.147-py3-none-manylinux2014_x86_64.whl (56.3 MB)\n",
            "\u001b[2K   \u001b[90m━━━━━━━━━━━━━━━━━━━━━━━━━━━━━━━━━━━━━━━━\u001b[0m \u001b[32m56.3/56.3 MB\u001b[0m \u001b[31m12.4 MB/s\u001b[0m eta \u001b[36m0:00:00\u001b[0m\n",
            "\u001b[?25hDownloading nvidia_cusolver_cu12-11.6.1.9-py3-none-manylinux2014_x86_64.whl (127.9 MB)\n",
            "\u001b[2K   \u001b[90m━━━━━━━━━━━━━━━━━━━━━━━━━━━━━━━━━━━━━━━━\u001b[0m \u001b[32m127.9/127.9 MB\u001b[0m \u001b[31m7.5 MB/s\u001b[0m eta \u001b[36m0:00:00\u001b[0m\n",
            "\u001b[?25hDownloading nvidia_cusparse_cu12-12.3.1.170-py3-none-manylinux2014_x86_64.whl (207.5 MB)\n",
            "\u001b[2K   \u001b[90m━━━━━━━━━━━━━━━━━━━━━━━━━━━━━━━━━━━━━━━━\u001b[0m \u001b[32m207.5/207.5 MB\u001b[0m \u001b[31m5.5 MB/s\u001b[0m eta \u001b[36m0:00:00\u001b[0m\n",
            "\u001b[?25hDownloading nvidia_nvjitlink_cu12-12.4.127-py3-none-manylinux2014_x86_64.whl (21.1 MB)\n",
            "\u001b[2K   \u001b[90m━━━━━━━━━━━━━━━━━━━━━━━━━━━━━━━━━━━━━━━━\u001b[0m \u001b[32m21.1/21.1 MB\u001b[0m \u001b[31m86.0 MB/s\u001b[0m eta \u001b[36m0:00:00\u001b[0m\n",
            "\u001b[?25hDownloading ultralytics_thop-2.0.14-py3-none-any.whl (26 kB)\n",
            "Installing collected packages: nvidia-nvjitlink-cu12, nvidia-curand-cu12, nvidia-cufft-cu12, nvidia-cuda-runtime-cu12, nvidia-cuda-nvrtc-cu12, nvidia-cuda-cupti-cu12, nvidia-cublas-cu12, nvidia-cusparse-cu12, nvidia-cudnn-cu12, nvidia-cusolver-cu12, ultralytics-thop, ultralytics\n",
            "  Attempting uninstall: nvidia-nvjitlink-cu12\n",
            "    Found existing installation: nvidia-nvjitlink-cu12 12.5.82\n",
            "    Uninstalling nvidia-nvjitlink-cu12-12.5.82:\n",
            "      Successfully uninstalled nvidia-nvjitlink-cu12-12.5.82\n",
            "  Attempting uninstall: nvidia-curand-cu12\n",
            "    Found existing installation: nvidia-curand-cu12 10.3.6.82\n",
            "    Uninstalling nvidia-curand-cu12-10.3.6.82:\n",
            "      Successfully uninstalled nvidia-curand-cu12-10.3.6.82\n",
            "  Attempting uninstall: nvidia-cufft-cu12\n",
            "    Found existing installation: nvidia-cufft-cu12 11.2.3.61\n",
            "    Uninstalling nvidia-cufft-cu12-11.2.3.61:\n",
            "      Successfully uninstalled nvidia-cufft-cu12-11.2.3.61\n",
            "  Attempting uninstall: nvidia-cuda-runtime-cu12\n",
            "    Found existing installation: nvidia-cuda-runtime-cu12 12.5.82\n",
            "    Uninstalling nvidia-cuda-runtime-cu12-12.5.82:\n",
            "      Successfully uninstalled nvidia-cuda-runtime-cu12-12.5.82\n",
            "  Attempting uninstall: nvidia-cuda-nvrtc-cu12\n",
            "    Found existing installation: nvidia-cuda-nvrtc-cu12 12.5.82\n",
            "    Uninstalling nvidia-cuda-nvrtc-cu12-12.5.82:\n",
            "      Successfully uninstalled nvidia-cuda-nvrtc-cu12-12.5.82\n",
            "  Attempting uninstall: nvidia-cuda-cupti-cu12\n",
            "    Found existing installation: nvidia-cuda-cupti-cu12 12.5.82\n",
            "    Uninstalling nvidia-cuda-cupti-cu12-12.5.82:\n",
            "      Successfully uninstalled nvidia-cuda-cupti-cu12-12.5.82\n",
            "  Attempting uninstall: nvidia-cublas-cu12\n",
            "    Found existing installation: nvidia-cublas-cu12 12.5.3.2\n",
            "    Uninstalling nvidia-cublas-cu12-12.5.3.2:\n",
            "      Successfully uninstalled nvidia-cublas-cu12-12.5.3.2\n",
            "  Attempting uninstall: nvidia-cusparse-cu12\n",
            "    Found existing installation: nvidia-cusparse-cu12 12.5.1.3\n",
            "    Uninstalling nvidia-cusparse-cu12-12.5.1.3:\n",
            "      Successfully uninstalled nvidia-cusparse-cu12-12.5.1.3\n",
            "  Attempting uninstall: nvidia-cudnn-cu12\n",
            "    Found existing installation: nvidia-cudnn-cu12 9.3.0.75\n",
            "    Uninstalling nvidia-cudnn-cu12-9.3.0.75:\n",
            "      Successfully uninstalled nvidia-cudnn-cu12-9.3.0.75\n",
            "  Attempting uninstall: nvidia-cusolver-cu12\n",
            "    Found existing installation: nvidia-cusolver-cu12 11.6.3.83\n",
            "    Uninstalling nvidia-cusolver-cu12-11.6.3.83:\n",
            "      Successfully uninstalled nvidia-cusolver-cu12-11.6.3.83\n",
            "Successfully installed nvidia-cublas-cu12-12.4.5.8 nvidia-cuda-cupti-cu12-12.4.127 nvidia-cuda-nvrtc-cu12-12.4.127 nvidia-cuda-runtime-cu12-12.4.127 nvidia-cudnn-cu12-9.1.0.70 nvidia-cufft-cu12-11.2.1.3 nvidia-curand-cu12-10.3.5.147 nvidia-cusolver-cu12-11.6.1.9 nvidia-cusparse-cu12-12.3.1.170 nvidia-nvjitlink-cu12-12.4.127 ultralytics-8.3.102 ultralytics-thop-2.0.14\n"
          ]
        }
      ],
      "source": [
        "!pip install ultralytics"
      ]
    },
    {
      "cell_type": "code",
      "source": [
        "!pip install roboflow\n",
        "\n",
        "from roboflow import Roboflow\n",
        "rf = Roboflow(api_key=\"1BXyV3SWupi7dYtNfV2d\")\n",
        "project = rf.workspace(\"2ndworkspace\").project(\"jskjxks\")\n",
        "version = project.version(1)\n",
        "dataset = version.download(\"yolov8\")"
      ],
      "metadata": {
        "colab": {
          "base_uri": "https://localhost:8080/"
        },
        "id": "6SWTnpAqPp7k",
        "outputId": "80d58a74-5014-4531-ae2d-f56bc4901602"
      },
      "execution_count": null,
      "outputs": [
        {
          "output_type": "stream",
          "name": "stdout",
          "text": [
            "Collecting roboflow\n",
            "  Downloading roboflow-1.1.60-py3-none-any.whl.metadata (9.7 kB)\n",
            "Requirement already satisfied: certifi in /usr/local/lib/python3.11/dist-packages (from roboflow) (2025.1.31)\n",
            "Collecting idna==3.7 (from roboflow)\n",
            "  Downloading idna-3.7-py3-none-any.whl.metadata (9.9 kB)\n",
            "Requirement already satisfied: cycler in /usr/local/lib/python3.11/dist-packages (from roboflow) (0.12.1)\n",
            "Requirement already satisfied: kiwisolver>=1.3.1 in /usr/local/lib/python3.11/dist-packages (from roboflow) (1.4.8)\n",
            "Requirement already satisfied: matplotlib in /usr/local/lib/python3.11/dist-packages (from roboflow) (3.10.0)\n",
            "Requirement already satisfied: numpy>=1.18.5 in /usr/local/lib/python3.11/dist-packages (from roboflow) (2.0.2)\n",
            "Collecting opencv-python-headless==4.10.0.84 (from roboflow)\n",
            "  Downloading opencv_python_headless-4.10.0.84-cp37-abi3-manylinux_2_17_x86_64.manylinux2014_x86_64.whl.metadata (20 kB)\n",
            "Requirement already satisfied: Pillow>=7.1.2 in /usr/local/lib/python3.11/dist-packages (from roboflow) (11.1.0)\n",
            "Collecting pillow-heif>=0.18.0 (from roboflow)\n",
            "  Downloading pillow_heif-0.22.0-cp311-cp311-manylinux_2_17_x86_64.manylinux2014_x86_64.whl.metadata (9.6 kB)\n",
            "Requirement already satisfied: python-dateutil in /usr/local/lib/python3.11/dist-packages (from roboflow) (2.8.2)\n",
            "Collecting python-dotenv (from roboflow)\n",
            "  Downloading python_dotenv-1.1.0-py3-none-any.whl.metadata (24 kB)\n",
            "Requirement already satisfied: requests in /usr/local/lib/python3.11/dist-packages (from roboflow) (2.32.3)\n",
            "Requirement already satisfied: six in /usr/local/lib/python3.11/dist-packages (from roboflow) (1.17.0)\n",
            "Requirement already satisfied: urllib3>=1.26.6 in /usr/local/lib/python3.11/dist-packages (from roboflow) (2.3.0)\n",
            "Requirement already satisfied: tqdm>=4.41.0 in /usr/local/lib/python3.11/dist-packages (from roboflow) (4.67.1)\n",
            "Requirement already satisfied: PyYAML>=5.3.1 in /usr/local/lib/python3.11/dist-packages (from roboflow) (6.0.2)\n",
            "Requirement already satisfied: requests-toolbelt in /usr/local/lib/python3.11/dist-packages (from roboflow) (1.0.0)\n",
            "Collecting filetype (from roboflow)\n",
            "  Downloading filetype-1.2.0-py2.py3-none-any.whl.metadata (6.5 kB)\n",
            "Requirement already satisfied: contourpy>=1.0.1 in /usr/local/lib/python3.11/dist-packages (from matplotlib->roboflow) (1.3.1)\n",
            "Requirement already satisfied: fonttools>=4.22.0 in /usr/local/lib/python3.11/dist-packages (from matplotlib->roboflow) (4.56.0)\n",
            "Requirement already satisfied: packaging>=20.0 in /usr/local/lib/python3.11/dist-packages (from matplotlib->roboflow) (24.2)\n",
            "Requirement already satisfied: pyparsing>=2.3.1 in /usr/local/lib/python3.11/dist-packages (from matplotlib->roboflow) (3.2.3)\n",
            "Requirement already satisfied: charset-normalizer<4,>=2 in /usr/local/lib/python3.11/dist-packages (from requests->roboflow) (3.4.1)\n",
            "Downloading roboflow-1.1.60-py3-none-any.whl (84 kB)\n",
            "\u001b[2K   \u001b[90m━━━━━━━━━━━━━━━━━━━━━━━━━━━━━━━━━━━━━━━━\u001b[0m \u001b[32m84.5/84.5 kB\u001b[0m \u001b[31m6.2 MB/s\u001b[0m eta \u001b[36m0:00:00\u001b[0m\n",
            "\u001b[?25hDownloading idna-3.7-py3-none-any.whl (66 kB)\n",
            "\u001b[2K   \u001b[90m━━━━━━━━━━━━━━━━━━━━━━━━━━━━━━━━━━━━━━━━\u001b[0m \u001b[32m66.8/66.8 kB\u001b[0m \u001b[31m6.2 MB/s\u001b[0m eta \u001b[36m0:00:00\u001b[0m\n",
            "\u001b[?25hDownloading opencv_python_headless-4.10.0.84-cp37-abi3-manylinux_2_17_x86_64.manylinux2014_x86_64.whl (49.9 MB)\n",
            "\u001b[2K   \u001b[90m━━━━━━━━━━━━━━━━━━━━━━━━━━━━━━━━━━━━━━━━\u001b[0m \u001b[32m49.9/49.9 MB\u001b[0m \u001b[31m20.3 MB/s\u001b[0m eta \u001b[36m0:00:00\u001b[0m\n",
            "\u001b[?25hDownloading pillow_heif-0.22.0-cp311-cp311-manylinux_2_17_x86_64.manylinux2014_x86_64.whl (7.8 MB)\n",
            "\u001b[2K   \u001b[90m━━━━━━━━━━━━━━━━━━━━━━━━━━━━━━━━━━━━━━━━\u001b[0m \u001b[32m7.8/7.8 MB\u001b[0m \u001b[31m104.1 MB/s\u001b[0m eta \u001b[36m0:00:00\u001b[0m\n",
            "\u001b[?25hDownloading filetype-1.2.0-py2.py3-none-any.whl (19 kB)\n",
            "Downloading python_dotenv-1.1.0-py3-none-any.whl (20 kB)\n",
            "Installing collected packages: filetype, python-dotenv, pillow-heif, opencv-python-headless, idna, roboflow\n",
            "  Attempting uninstall: opencv-python-headless\n",
            "    Found existing installation: opencv-python-headless 4.11.0.86\n",
            "    Uninstalling opencv-python-headless-4.11.0.86:\n",
            "      Successfully uninstalled opencv-python-headless-4.11.0.86\n",
            "  Attempting uninstall: idna\n",
            "    Found existing installation: idna 3.10\n",
            "    Uninstalling idna-3.10:\n",
            "      Successfully uninstalled idna-3.10\n",
            "Successfully installed filetype-1.2.0 idna-3.7 opencv-python-headless-4.10.0.84 pillow-heif-0.22.0 python-dotenv-1.1.0 roboflow-1.1.60\n",
            "loading Roboflow workspace...\n",
            "loading Roboflow project...\n"
          ]
        },
        {
          "output_type": "stream",
          "name": "stderr",
          "text": [
            "Downloading Dataset Version Zip in jskjxks-1 to yolov8:: 100%|██████████| 160785/160785 [00:02<00:00, 63059.33it/s]"
          ]
        },
        {
          "output_type": "stream",
          "name": "stdout",
          "text": [
            "\n"
          ]
        },
        {
          "output_type": "stream",
          "name": "stderr",
          "text": [
            "\n",
            "Extracting Dataset Version Zip to jskjxks-1 in yolov8:: 100%|██████████| 6742/6742 [00:01<00:00, 6055.24it/s]\n"
          ]
        },
        {
          "output_type": "stream",
          "name": "stdout",
          "text": [
            "Creating new Ultralytics Settings v0.0.6 file ✅ \n",
            "View Ultralytics Settings with 'yolo settings' or at '/root/.config/Ultralytics/settings.json'\n",
            "Update Settings with 'yolo settings key=value', i.e. 'yolo settings runs_dir=path/to/dir'. For help see https://docs.ultralytics.com/quickstart/#ultralytics-settings.\n"
          ]
        }
      ]
    },
    {
      "cell_type": "code",
      "source": [
        "from ultralytics import YOLO\n",
        "\n",
        "model = YOLO(\"yolov8m.pt\")\n",
        "\n",
        "model.train(data=\"/content/jskjxks-1/data.yaml\", epochs=30, batch=8, imgsz=640)"
      ],
      "metadata": {
        "colab": {
          "base_uri": "https://localhost:8080/"
        },
        "id": "EqfgF24pPm59",
        "outputId": "081d2674-49a2-4af8-98af-1f9ef2904825"
      },
      "execution_count": null,
      "outputs": [
        {
          "metadata": {
            "tags": null
          },
          "name": "stdout",
          "output_type": "stream",
          "text": [
            "Downloading https://github.com/ultralytics/assets/releases/download/v8.3.0/yolov8m.pt to 'yolov8m.pt'...\n"
          ]
        },
        {
          "metadata": {
            "tags": null
          },
          "name": "stderr",
          "output_type": "stream",
          "text": [
            "100%|██████████| 49.7M/49.7M [00:00<00:00, 322MB/s]\n"
          ]
        },
        {
          "metadata": {
            "tags": null
          },
          "name": "stdout",
          "output_type": "stream",
          "text": [
            "Ultralytics 8.3.102 🚀 Python-3.11.11 torch-2.6.0+cu124 CUDA:0 (Tesla T4, 15095MiB)\n",
            "\u001b[34m\u001b[1mengine/trainer: \u001b[0mtask=detect, mode=train, model=yolov8m.pt, data=/content/jskjxks-1/data.yaml, epochs=30, time=None, patience=100, batch=8, imgsz=640, save=True, save_period=-1, cache=False, device=None, workers=8, project=None, name=train, exist_ok=False, pretrained=True, optimizer=auto, verbose=True, seed=0, deterministic=True, single_cls=False, rect=False, cos_lr=False, close_mosaic=10, resume=False, amp=True, fraction=1.0, profile=False, freeze=None, multi_scale=False, overlap_mask=True, mask_ratio=4, dropout=0.0, val=True, split=val, save_json=False, save_hybrid=False, conf=None, iou=0.7, max_det=300, half=False, dnn=False, plots=True, source=None, vid_stride=1, stream_buffer=False, visualize=False, augment=False, agnostic_nms=False, classes=None, retina_masks=False, embed=None, show=False, save_frames=False, save_txt=False, save_conf=False, save_crop=False, show_labels=True, show_conf=True, show_boxes=True, line_width=None, format=torchscript, keras=False, optimize=False, int8=False, dynamic=False, simplify=True, opset=None, workspace=None, nms=False, lr0=0.01, lrf=0.01, momentum=0.937, weight_decay=0.0005, warmup_epochs=3.0, warmup_momentum=0.8, warmup_bias_lr=0.1, box=7.5, cls=0.5, dfl=1.5, pose=12.0, kobj=1.0, nbs=64, hsv_h=0.015, hsv_s=0.7, hsv_v=0.4, degrees=0.0, translate=0.1, scale=0.5, shear=0.0, perspective=0.0, flipud=0.0, fliplr=0.5, bgr=0.0, mosaic=1.0, mixup=0.0, copy_paste=0.0, copy_paste_mode=flip, auto_augment=randaugment, erasing=0.4, crop_fraction=1.0, cfg=None, tracker=botsort.yaml, save_dir=runs/detect/train\n",
            "Downloading https://ultralytics.com/assets/Arial.ttf to '/root/.config/Ultralytics/Arial.ttf'...\n"
          ]
        },
        {
          "metadata": {
            "tags": null
          },
          "name": "stderr",
          "output_type": "stream",
          "text": [
            "100%|██████████| 755k/755k [00:00<00:00, 22.2MB/s]\n"
          ]
        },
        {
          "metadata": {
            "tags": null
          },
          "name": "stdout",
          "output_type": "stream",
          "text": [
            "Overriding model.yaml nc=80 with nc=1\n",
            "\n",
            "                   from  n    params  module                                       arguments                     \n",
            "  0                  -1  1      1392  ultralytics.nn.modules.conv.Conv             [3, 48, 3, 2]                 \n",
            "  1                  -1  1     41664  ultralytics.nn.modules.conv.Conv             [48, 96, 3, 2]                \n",
            "  2                  -1  2    111360  ultralytics.nn.modules.block.C2f             [96, 96, 2, True]             \n",
            "  3                  -1  1    166272  ultralytics.nn.modules.conv.Conv             [96, 192, 3, 2]               \n",
            "  4                  -1  4    813312  ultralytics.nn.modules.block.C2f             [192, 192, 4, True]           \n",
            "  5                  -1  1    664320  ultralytics.nn.modules.conv.Conv             [192, 384, 3, 2]              \n",
            "  6                  -1  4   3248640  ultralytics.nn.modules.block.C2f             [384, 384, 4, True]           \n",
            "  7                  -1  1   1991808  ultralytics.nn.modules.conv.Conv             [384, 576, 3, 2]              \n",
            "  8                  -1  2   3985920  ultralytics.nn.modules.block.C2f             [576, 576, 2, True]           \n",
            "  9                  -1  1    831168  ultralytics.nn.modules.block.SPPF            [576, 576, 5]                 \n",
            " 10                  -1  1         0  torch.nn.modules.upsampling.Upsample         [None, 2, 'nearest']          \n",
            " 11             [-1, 6]  1         0  ultralytics.nn.modules.conv.Concat           [1]                           \n",
            " 12                  -1  2   1993728  ultralytics.nn.modules.block.C2f             [960, 384, 2]                 \n",
            " 13                  -1  1         0  torch.nn.modules.upsampling.Upsample         [None, 2, 'nearest']          \n",
            " 14             [-1, 4]  1         0  ultralytics.nn.modules.conv.Concat           [1]                           \n",
            " 15                  -1  2    517632  ultralytics.nn.modules.block.C2f             [576, 192, 2]                 \n",
            " 16                  -1  1    332160  ultralytics.nn.modules.conv.Conv             [192, 192, 3, 2]              \n",
            " 17            [-1, 12]  1         0  ultralytics.nn.modules.conv.Concat           [1]                           \n",
            " 18                  -1  2   1846272  ultralytics.nn.modules.block.C2f             [576, 384, 2]                 \n",
            " 19                  -1  1   1327872  ultralytics.nn.modules.conv.Conv             [384, 384, 3, 2]              \n",
            " 20             [-1, 9]  1         0  ultralytics.nn.modules.conv.Concat           [1]                           \n",
            " 21                  -1  2   4207104  ultralytics.nn.modules.block.C2f             [960, 576, 2]                 \n",
            " 22        [15, 18, 21]  1   3776275  ultralytics.nn.modules.head.Detect           [1, [192, 384, 576]]          \n",
            "Model summary: 169 layers, 25,856,899 parameters, 25,856,883 gradients, 79.1 GFLOPs\n",
            "\n",
            "Transferred 469/475 items from pretrained weights\n",
            "\u001b[34m\u001b[1mTensorBoard: \u001b[0mStart with 'tensorboard --logdir runs/detect/train', view at http://localhost:6006/\n",
            "Freezing layer 'model.22.dfl.conv.weight'\n",
            "\u001b[34m\u001b[1mAMP: \u001b[0mrunning Automatic Mixed Precision (AMP) checks...\n",
            "Downloading https://github.com/ultralytics/assets/releases/download/v8.3.0/yolo11n.pt to 'yolo11n.pt'...\n"
          ]
        },
        {
          "metadata": {
            "tags": null
          },
          "name": "stderr",
          "output_type": "stream",
          "text": [
            "100%|██████████| 5.35M/5.35M [00:00<00:00, 102MB/s]\n"
          ]
        },
        {
          "metadata": {
            "tags": null
          },
          "name": "stdout",
          "output_type": "stream",
          "text": [
            "\u001b[34m\u001b[1mAMP: \u001b[0mchecks passed ✅\n"
          ]
        },
        {
          "metadata": {
            "tags": null
          },
          "name": "stderr",
          "output_type": "stream",
          "text": [
            "\u001b[34m\u001b[1mtrain: \u001b[0mScanning /content/jskjxks-1/train/labels... 2355 images, 0 backgrounds, 0 corrupt: 100%|██████████| 2355/2355 [00:01<00:00, 2049.40it/s]"
          ]
        },
        {
          "metadata": {
            "tags": null
          },
          "name": "stdout",
          "output_type": "stream",
          "text": [
            "\u001b[34m\u001b[1mtrain: \u001b[0mNew cache created: /content/jskjxks-1/train/labels.cache\n"
          ]
        },
        {
          "metadata": {
            "tags": null
          },
          "name": "stderr",
          "output_type": "stream",
          "text": [
            "\n"
          ]
        },
        {
          "metadata": {
            "tags": null
          },
          "name": "stdout",
          "output_type": "stream",
          "text": [
            "\u001b[34m\u001b[1malbumentations: \u001b[0mBlur(p=0.01, blur_limit=(3, 7)), MedianBlur(p=0.01, blur_limit=(3, 7)), ToGray(p=0.01, num_output_channels=3, method='weighted_average'), CLAHE(p=0.01, clip_limit=(1.0, 4.0), tile_grid_size=(8, 8))\n"
          ]
        },
        {
          "metadata": {
            "tags": null
          },
          "name": "stderr",
          "output_type": "stream",
          "text": [
            "\u001b[34m\u001b[1mval: \u001b[0mScanning /content/jskjxks-1/valid/labels... 506 images, 0 backgrounds, 0 corrupt: 100%|██████████| 506/506 [00:00<00:00, 606.96it/s]"
          ]
        },
        {
          "metadata": {
            "tags": null
          },
          "name": "stdout",
          "output_type": "stream",
          "text": [
            "\u001b[34m\u001b[1mval: \u001b[0mNew cache created: /content/jskjxks-1/valid/labels.cache\n"
          ]
        },
        {
          "metadata": {
            "tags": null
          },
          "name": "stderr",
          "output_type": "stream",
          "text": [
            "\n"
          ]
        },
        {
          "metadata": {
            "tags": null
          },
          "name": "stdout",
          "output_type": "stream",
          "text": [
            "Plotting labels to runs/detect/train/labels.jpg... \n",
            "\u001b[34m\u001b[1moptimizer:\u001b[0m 'optimizer=auto' found, ignoring 'lr0=0.01' and 'momentum=0.937' and determining best 'optimizer', 'lr0' and 'momentum' automatically... \n",
            "\u001b[34m\u001b[1moptimizer:\u001b[0m AdamW(lr=0.002, momentum=0.9) with parameter groups 77 weight(decay=0.0), 84 weight(decay=0.0005), 83 bias(decay=0.0)\n",
            "\u001b[34m\u001b[1mTensorBoard: \u001b[0mmodel graph visualization added ✅\n",
            "Image sizes 640 train, 640 val\n",
            "Using 2 dataloader workers\n",
            "Logging results to \u001b[1mruns/detect/train\u001b[0m\n",
            "Starting training for 30 epochs...\n",
            "\n",
            "      Epoch    GPU_mem   box_loss   cls_loss   dfl_loss  Instances       Size\n"
          ]
        },
        {
          "metadata": {
            "tags": null
          },
          "name": "stderr",
          "output_type": "stream",
          "text": [
            "       1/30      3.53G      1.288       1.08      1.331         12        640: 100%|██████████| 295/295 [01:27<00:00,  3.38it/s]\n",
            "                 Class     Images  Instances      Box(P          R      mAP50  mAP50-95): 100%|██████████| 32/32 [00:09<00:00,  3.52it/s]"
          ]
        },
        {
          "metadata": {
            "tags": null
          },
          "name": "stdout",
          "output_type": "stream",
          "text": [
            "                   all        506       1666      0.677      0.578      0.652       0.35\n"
          ]
        },
        {
          "metadata": {
            "tags": null
          },
          "name": "stderr",
          "output_type": "stream",
          "text": [
            "\n"
          ]
        },
        {
          "metadata": {
            "tags": null
          },
          "name": "stdout",
          "output_type": "stream",
          "text": [
            "\n",
            "      Epoch    GPU_mem   box_loss   cls_loss   dfl_loss  Instances       Size\n"
          ]
        },
        {
          "metadata": {
            "tags": null
          },
          "name": "stderr",
          "output_type": "stream",
          "text": [
            "       2/30      4.15G       1.45      1.239       1.45         33        640: 100%|██████████| 295/295 [01:24<00:00,  3.51it/s]\n",
            "                 Class     Images  Instances      Box(P          R      mAP50  mAP50-95): 100%|██████████| 32/32 [00:07<00:00,  4.06it/s]\n"
          ]
        },
        {
          "metadata": {
            "tags": null
          },
          "name": "stdout",
          "output_type": "stream",
          "text": [
            "                   all        506       1666      0.792      0.639      0.744      0.428\n",
            "\n",
            "      Epoch    GPU_mem   box_loss   cls_loss   dfl_loss  Instances       Size\n"
          ]
        },
        {
          "metadata": {
            "tags": null
          },
          "name": "stderr",
          "output_type": "stream",
          "text": [
            "       3/30      4.23G      1.448      1.234      1.457         16        640: 100%|██████████| 295/295 [01:24<00:00,  3.47it/s]\n",
            "                 Class     Images  Instances      Box(P          R      mAP50  mAP50-95): 100%|██████████| 32/32 [00:07<00:00,  4.37it/s]\n"
          ]
        },
        {
          "metadata": {
            "tags": null
          },
          "name": "stdout",
          "output_type": "stream",
          "text": [
            "                   all        506       1666      0.792      0.728      0.806      0.485\n",
            "\n",
            "      Epoch    GPU_mem   box_loss   cls_loss   dfl_loss  Instances       Size\n"
          ]
        },
        {
          "metadata": {
            "tags": null
          },
          "name": "stderr",
          "output_type": "stream",
          "text": [
            "       4/30      4.29G      1.397      1.153      1.419         29        640: 100%|██████████| 295/295 [01:24<00:00,  3.51it/s]\n",
            "                 Class     Images  Instances      Box(P          R      mAP50  mAP50-95): 100%|██████████| 32/32 [00:08<00:00,  3.95it/s]\n"
          ]
        },
        {
          "metadata": {
            "tags": null
          },
          "name": "stdout",
          "output_type": "stream",
          "text": [
            "                   all        506       1666      0.843      0.679      0.796       0.47\n",
            "\n",
            "      Epoch    GPU_mem   box_loss   cls_loss   dfl_loss  Instances       Size\n"
          ]
        },
        {
          "metadata": {
            "tags": null
          },
          "name": "stderr",
          "output_type": "stream",
          "text": [
            "       5/30      4.61G      1.326      1.046      1.363         15        640: 100%|██████████| 295/295 [01:24<00:00,  3.49it/s]\n",
            "                 Class     Images  Instances      Box(P          R      mAP50  mAP50-95): 100%|██████████| 32/32 [00:08<00:00,  3.94it/s]\n"
          ]
        },
        {
          "metadata": {
            "tags": null
          },
          "name": "stdout",
          "output_type": "stream",
          "text": [
            "                   all        506       1666      0.821      0.774      0.829       0.51\n",
            "\n",
            "      Epoch    GPU_mem   box_loss   cls_loss   dfl_loss  Instances       Size\n"
          ]
        },
        {
          "metadata": {
            "tags": null
          },
          "name": "stderr",
          "output_type": "stream",
          "text": [
            "       6/30      4.67G      1.281      0.981      1.336         11        640: 100%|██████████| 295/295 [01:24<00:00,  3.49it/s]\n",
            "                 Class     Images  Instances      Box(P          R      mAP50  mAP50-95): 100%|██████████| 32/32 [00:07<00:00,  4.14it/s]"
          ]
        },
        {
          "metadata": {
            "tags": null
          },
          "name": "stdout",
          "output_type": "stream",
          "text": [
            "                   all        506       1666      0.866      0.802      0.882      0.568\n"
          ]
        },
        {
          "metadata": {
            "tags": null
          },
          "name": "stderr",
          "output_type": "stream",
          "text": [
            "\n"
          ]
        },
        {
          "metadata": {
            "tags": null
          },
          "name": "stdout",
          "output_type": "stream",
          "text": [
            "\n",
            "      Epoch    GPU_mem   box_loss   cls_loss   dfl_loss  Instances       Size\n"
          ]
        },
        {
          "metadata": {
            "tags": null
          },
          "name": "stderr",
          "output_type": "stream",
          "text": [
            "       7/30      4.74G      1.265     0.9503      1.316          7        640: 100%|██████████| 295/295 [01:24<00:00,  3.49it/s]\n",
            "                 Class     Images  Instances      Box(P          R      mAP50  mAP50-95): 100%|██████████| 32/32 [00:08<00:00,  3.89it/s]"
          ]
        },
        {
          "metadata": {
            "tags": null
          },
          "name": "stdout",
          "output_type": "stream",
          "text": [
            "                   all        506       1666      0.905      0.818      0.903      0.613\n"
          ]
        },
        {
          "metadata": {
            "tags": null
          },
          "name": "stderr",
          "output_type": "stream",
          "text": [
            "\n"
          ]
        },
        {
          "metadata": {
            "tags": null
          },
          "name": "stdout",
          "output_type": "stream",
          "text": [
            "\n",
            "      Epoch    GPU_mem   box_loss   cls_loss   dfl_loss  Instances       Size\n"
          ]
        },
        {
          "metadata": {
            "tags": null
          },
          "name": "stderr",
          "output_type": "stream",
          "text": [
            "       8/30      4.81G       1.23     0.9079      1.297         13        640: 100%|██████████| 295/295 [01:24<00:00,  3.48it/s]\n",
            "                 Class     Images  Instances      Box(P          R      mAP50  mAP50-95): 100%|██████████| 32/32 [00:07<00:00,  4.32it/s]"
          ]
        },
        {
          "metadata": {
            "tags": null
          },
          "name": "stdout",
          "output_type": "stream",
          "text": [
            "                   all        506       1666      0.884      0.841      0.908      0.611\n"
          ]
        },
        {
          "metadata": {
            "tags": null
          },
          "name": "stderr",
          "output_type": "stream",
          "text": [
            "\n"
          ]
        },
        {
          "metadata": {
            "tags": null
          },
          "name": "stdout",
          "output_type": "stream",
          "text": [
            "\n",
            "      Epoch    GPU_mem   box_loss   cls_loss   dfl_loss  Instances       Size\n"
          ]
        },
        {
          "metadata": {
            "tags": null
          },
          "name": "stderr",
          "output_type": "stream",
          "text": [
            "       9/30      4.88G      1.208     0.8767      1.287         16        640: 100%|██████████| 295/295 [01:25<00:00,  3.46it/s]\n",
            "                 Class     Images  Instances      Box(P          R      mAP50  mAP50-95): 100%|██████████| 32/32 [00:07<00:00,  4.38it/s]"
          ]
        },
        {
          "metadata": {
            "tags": null
          },
          "name": "stdout",
          "output_type": "stream",
          "text": [
            "                   all        506       1666      0.916      0.833      0.913      0.624\n"
          ]
        },
        {
          "metadata": {
            "tags": null
          },
          "name": "stderr",
          "output_type": "stream",
          "text": [
            "\n"
          ]
        },
        {
          "metadata": {
            "tags": null
          },
          "name": "stdout",
          "output_type": "stream",
          "text": [
            "\n",
            "      Epoch    GPU_mem   box_loss   cls_loss   dfl_loss  Instances       Size\n"
          ]
        },
        {
          "metadata": {
            "tags": null
          },
          "name": "stderr",
          "output_type": "stream",
          "text": [
            "      10/30      5.18G      1.181     0.8425      1.262         18        640: 100%|██████████| 295/295 [01:24<00:00,  3.49it/s]\n",
            "                 Class     Images  Instances      Box(P          R      mAP50  mAP50-95): 100%|██████████| 32/32 [00:08<00:00,  3.98it/s]\n"
          ]
        },
        {
          "metadata": {
            "tags": null
          },
          "name": "stdout",
          "output_type": "stream",
          "text": [
            "                   all        506       1666      0.904      0.863      0.922      0.619\n",
            "\n",
            "      Epoch    GPU_mem   box_loss   cls_loss   dfl_loss  Instances       Size\n"
          ]
        },
        {
          "metadata": {
            "tags": null
          },
          "name": "stderr",
          "output_type": "stream",
          "text": [
            "      11/30      5.25G      1.157     0.8107      1.254         15        640: 100%|██████████| 295/295 [01:24<00:00,  3.48it/s]\n",
            "                 Class     Images  Instances      Box(P          R      mAP50  mAP50-95): 100%|██████████| 32/32 [00:07<00:00,  4.23it/s]"
          ]
        },
        {
          "metadata": {
            "tags": null
          },
          "name": "stdout",
          "output_type": "stream",
          "text": [
            "                   all        506       1666      0.936      0.845      0.933       0.65\n"
          ]
        },
        {
          "metadata": {
            "tags": null
          },
          "name": "stderr",
          "output_type": "stream",
          "text": [
            "\n"
          ]
        },
        {
          "metadata": {
            "tags": null
          },
          "name": "stdout",
          "output_type": "stream",
          "text": [
            "\n",
            "      Epoch    GPU_mem   box_loss   cls_loss   dfl_loss  Instances       Size\n"
          ]
        },
        {
          "metadata": {
            "tags": null
          },
          "name": "stderr",
          "output_type": "stream",
          "text": [
            "      12/30      5.32G      1.159     0.7956      1.251         27        640: 100%|██████████| 295/295 [01:24<00:00,  3.48it/s]\n",
            "                 Class     Images  Instances      Box(P          R      mAP50  mAP50-95): 100%|██████████| 32/32 [00:08<00:00,  3.88it/s]"
          ]
        },
        {
          "metadata": {
            "tags": null
          },
          "name": "stdout",
          "output_type": "stream",
          "text": [
            "                   all        506       1666      0.919      0.856      0.929      0.644\n"
          ]
        },
        {
          "metadata": {
            "tags": null
          },
          "name": "stderr",
          "output_type": "stream",
          "text": [
            "\n"
          ]
        },
        {
          "metadata": {
            "tags": null
          },
          "name": "stdout",
          "output_type": "stream",
          "text": [
            "\n",
            "      Epoch    GPU_mem   box_loss   cls_loss   dfl_loss  Instances       Size\n"
          ]
        },
        {
          "metadata": {
            "tags": null
          },
          "name": "stderr",
          "output_type": "stream",
          "text": [
            "      13/30      5.39G       1.13     0.7749       1.23         14        640: 100%|██████████| 295/295 [01:24<00:00,  3.49it/s]\n",
            "                 Class     Images  Instances      Box(P          R      mAP50  mAP50-95): 100%|██████████| 32/32 [00:08<00:00,  3.93it/s]\n"
          ]
        },
        {
          "metadata": {
            "tags": null
          },
          "name": "stdout",
          "output_type": "stream",
          "text": [
            "                   all        506       1666      0.927      0.857      0.932      0.648\n",
            "\n",
            "      Epoch    GPU_mem   box_loss   cls_loss   dfl_loss  Instances       Size\n"
          ]
        },
        {
          "metadata": {
            "tags": null
          },
          "name": "stderr",
          "output_type": "stream",
          "text": [
            "      14/30      5.44G      1.108     0.7417      1.209         12        640: 100%|██████████| 295/295 [01:25<00:00,  3.47it/s]\n",
            "                 Class     Images  Instances      Box(P          R      mAP50  mAP50-95): 100%|██████████| 32/32 [00:07<00:00,  4.20it/s]"
          ]
        },
        {
          "metadata": {
            "tags": null
          },
          "name": "stdout",
          "output_type": "stream",
          "text": [
            "                   all        506       1666      0.936       0.88      0.943      0.665\n"
          ]
        },
        {
          "metadata": {
            "tags": null
          },
          "name": "stderr",
          "output_type": "stream",
          "text": [
            "\n"
          ]
        },
        {
          "metadata": {
            "tags": null
          },
          "name": "stdout",
          "output_type": "stream",
          "text": [
            "\n",
            "      Epoch    GPU_mem   box_loss   cls_loss   dfl_loss  Instances       Size\n"
          ]
        },
        {
          "metadata": {
            "tags": null
          },
          "name": "stderr",
          "output_type": "stream",
          "text": [
            "      15/30       5.6G      1.106     0.7431      1.222         12        640: 100%|██████████| 295/295 [01:25<00:00,  3.47it/s]\n",
            "                 Class     Images  Instances      Box(P          R      mAP50  mAP50-95): 100%|██████████| 32/32 [00:07<00:00,  4.07it/s]"
          ]
        },
        {
          "metadata": {
            "tags": null
          },
          "name": "stdout",
          "output_type": "stream",
          "text": [
            "                   all        506       1666       0.93      0.876      0.943      0.663\n"
          ]
        },
        {
          "metadata": {
            "tags": null
          },
          "name": "stderr",
          "output_type": "stream",
          "text": [
            "\n"
          ]
        },
        {
          "metadata": {
            "tags": null
          },
          "name": "stdout",
          "output_type": "stream",
          "text": [
            "\n",
            "      Epoch    GPU_mem   box_loss   cls_loss   dfl_loss  Instances       Size\n"
          ]
        },
        {
          "metadata": {
            "tags": null
          },
          "name": "stderr",
          "output_type": "stream",
          "text": [
            "      16/30      5.75G      1.085     0.7155      1.205         36        640: 100%|██████████| 295/295 [01:24<00:00,  3.49it/s]\n",
            "                 Class     Images  Instances      Box(P          R      mAP50  mAP50-95): 100%|██████████| 32/32 [00:08<00:00,  3.94it/s]"
          ]
        },
        {
          "metadata": {
            "tags": null
          },
          "name": "stdout",
          "output_type": "stream",
          "text": [
            "                   all        506       1666      0.936       0.87      0.942      0.664\n"
          ]
        },
        {
          "metadata": {
            "tags": null
          },
          "name": "stderr",
          "output_type": "stream",
          "text": [
            "\n"
          ]
        },
        {
          "metadata": {
            "tags": null
          },
          "name": "stdout",
          "output_type": "stream",
          "text": [
            "\n",
            "      Epoch    GPU_mem   box_loss   cls_loss   dfl_loss  Instances       Size\n"
          ]
        },
        {
          "metadata": {
            "tags": null
          },
          "name": "stderr",
          "output_type": "stream",
          "text": [
            "      17/30      6.06G       1.09     0.7167      1.216          5        640: 100%|██████████| 295/295 [01:24<00:00,  3.49it/s]\n",
            "                 Class     Images  Instances      Box(P          R      mAP50  mAP50-95): 100%|██████████| 32/32 [00:08<00:00,  3.94it/s]"
          ]
        },
        {
          "metadata": {
            "tags": null
          },
          "name": "stdout",
          "output_type": "stream",
          "text": [
            "                   all        506       1666      0.931       0.88      0.949      0.673\n"
          ]
        },
        {
          "metadata": {
            "tags": null
          },
          "name": "stderr",
          "output_type": "stream",
          "text": [
            "\n"
          ]
        },
        {
          "metadata": {
            "tags": null
          },
          "name": "stdout",
          "output_type": "stream",
          "text": [
            "\n",
            "      Epoch    GPU_mem   box_loss   cls_loss   dfl_loss  Instances       Size\n"
          ]
        },
        {
          "metadata": {
            "tags": null
          },
          "name": "stderr",
          "output_type": "stream",
          "text": [
            "      18/30      6.37G      1.075     0.7056      1.207         18        640: 100%|██████████| 295/295 [01:25<00:00,  3.47it/s]\n",
            "                 Class     Images  Instances      Box(P          R      mAP50  mAP50-95): 100%|██████████| 32/32 [00:07<00:00,  4.22it/s]"
          ]
        },
        {
          "metadata": {
            "tags": null
          },
          "name": "stdout",
          "output_type": "stream",
          "text": [
            "                   all        506       1666      0.927      0.884      0.949      0.675\n"
          ]
        },
        {
          "metadata": {
            "tags": null
          },
          "name": "stderr",
          "output_type": "stream",
          "text": [
            "\n"
          ]
        },
        {
          "metadata": {
            "tags": null
          },
          "name": "stdout",
          "output_type": "stream",
          "text": [
            "\n",
            "      Epoch    GPU_mem   box_loss   cls_loss   dfl_loss  Instances       Size\n"
          ]
        },
        {
          "metadata": {
            "tags": null
          },
          "name": "stderr",
          "output_type": "stream",
          "text": [
            "      19/30      6.44G      1.058     0.6754      1.191          6        640: 100%|██████████| 295/295 [01:24<00:00,  3.49it/s]\n",
            "                 Class     Images  Instances      Box(P          R      mAP50  mAP50-95): 100%|██████████| 32/32 [00:08<00:00,  3.96it/s]"
          ]
        },
        {
          "metadata": {
            "tags": null
          },
          "name": "stdout",
          "output_type": "stream",
          "text": [
            "                   all        506       1666      0.936      0.885      0.952      0.685\n"
          ]
        },
        {
          "metadata": {
            "tags": null
          },
          "name": "stderr",
          "output_type": "stream",
          "text": [
            "\n"
          ]
        },
        {
          "metadata": {
            "tags": null
          },
          "name": "stdout",
          "output_type": "stream",
          "text": [
            "\n",
            "      Epoch    GPU_mem   box_loss   cls_loss   dfl_loss  Instances       Size\n"
          ]
        },
        {
          "output_type": "stream",
          "name": "stderr",
          "text": [
            "      20/30      6.51G      1.039     0.6705       1.18         18        640: 100%|██████████| 295/295 [01:25<00:00,  3.46it/s]\n",
            "                 Class     Images  Instances      Box(P          R      mAP50  mAP50-95): 100%|██████████| 32/32 [00:07<00:00,  4.37it/s]"
          ]
        },
        {
          "output_type": "stream",
          "name": "stdout",
          "text": [
            "                   all        506       1666       0.94      0.887      0.951      0.677\n"
          ]
        },
        {
          "output_type": "stream",
          "name": "stderr",
          "text": [
            "\n"
          ]
        },
        {
          "output_type": "stream",
          "name": "stdout",
          "text": [
            "Closing dataloader mosaic\n",
            "\u001b[34m\u001b[1malbumentations: \u001b[0mBlur(p=0.01, blur_limit=(3, 7)), MedianBlur(p=0.01, blur_limit=(3, 7)), ToGray(p=0.01, num_output_channels=3, method='weighted_average'), CLAHE(p=0.01, clip_limit=(1.0, 4.0), tile_grid_size=(8, 8))\n",
            "\n",
            "      Epoch    GPU_mem   box_loss   cls_loss   dfl_loss  Instances       Size\n"
          ]
        },
        {
          "output_type": "stream",
          "name": "stderr",
          "text": [
            "      21/30      6.57G     0.9552     0.5678      1.132          4        640: 100%|██████████| 295/295 [01:25<00:00,  3.45it/s]\n",
            "                 Class     Images  Instances      Box(P          R      mAP50  mAP50-95): 100%|██████████| 32/32 [00:07<00:00,  4.11it/s]"
          ]
        },
        {
          "output_type": "stream",
          "name": "stdout",
          "text": [
            "                   all        506       1666      0.922      0.896      0.952      0.683\n"
          ]
        },
        {
          "output_type": "stream",
          "name": "stderr",
          "text": [
            "\n"
          ]
        },
        {
          "output_type": "stream",
          "name": "stdout",
          "text": [
            "\n",
            "      Epoch    GPU_mem   box_loss   cls_loss   dfl_loss  Instances       Size\n"
          ]
        },
        {
          "output_type": "stream",
          "name": "stderr",
          "text": [
            "      22/30      6.63G      0.947     0.5532      1.127          6        640: 100%|██████████| 295/295 [01:23<00:00,  3.51it/s]\n",
            "                 Class     Images  Instances      Box(P          R      mAP50  mAP50-95): 100%|██████████| 32/32 [00:08<00:00,  3.98it/s]"
          ]
        },
        {
          "output_type": "stream",
          "name": "stdout",
          "text": [
            "                   all        506       1666      0.944       0.89      0.957      0.694\n"
          ]
        },
        {
          "output_type": "stream",
          "name": "stderr",
          "text": [
            "\n"
          ]
        },
        {
          "output_type": "stream",
          "name": "stdout",
          "text": [
            "\n",
            "      Epoch    GPU_mem   box_loss   cls_loss   dfl_loss  Instances       Size\n"
          ]
        },
        {
          "output_type": "stream",
          "name": "stderr",
          "text": [
            "      23/30      6.78G     0.9309     0.5347      1.114         10        640: 100%|██████████| 295/295 [01:24<00:00,  3.50it/s]\n",
            "                 Class     Images  Instances      Box(P          R      mAP50  mAP50-95): 100%|██████████| 32/32 [00:08<00:00,  3.96it/s]"
          ]
        },
        {
          "output_type": "stream",
          "name": "stdout",
          "text": [
            "                   all        506       1666       0.93      0.911      0.954      0.688\n"
          ]
        },
        {
          "output_type": "stream",
          "name": "stderr",
          "text": [
            "\n"
          ]
        },
        {
          "output_type": "stream",
          "name": "stdout",
          "text": [
            "\n",
            "      Epoch    GPU_mem   box_loss   cls_loss   dfl_loss  Instances       Size\n"
          ]
        },
        {
          "output_type": "stream",
          "name": "stderr",
          "text": [
            "      24/30      6.93G     0.9187      0.515      1.108          7        640: 100%|██████████| 295/295 [01:23<00:00,  3.51it/s]\n",
            "                 Class     Images  Instances      Box(P          R      mAP50  mAP50-95): 100%|██████████| 32/32 [00:07<00:00,  4.00it/s]"
          ]
        },
        {
          "output_type": "stream",
          "name": "stdout",
          "text": [
            "                   all        506       1666      0.953      0.896      0.961      0.698\n"
          ]
        },
        {
          "output_type": "stream",
          "name": "stderr",
          "text": [
            "\n"
          ]
        },
        {
          "output_type": "stream",
          "name": "stdout",
          "text": [
            "\n",
            "      Epoch    GPU_mem   box_loss   cls_loss   dfl_loss  Instances       Size\n"
          ]
        },
        {
          "output_type": "stream",
          "name": "stderr",
          "text": [
            "      25/30      7.24G     0.8996     0.5024      1.097         10        640: 100%|██████████| 295/295 [01:24<00:00,  3.50it/s]\n",
            "                 Class     Images  Instances      Box(P          R      mAP50  mAP50-95): 100%|██████████| 32/32 [00:07<00:00,  4.01it/s]"
          ]
        },
        {
          "output_type": "stream",
          "name": "stdout",
          "text": [
            "                   all        506       1666       0.96      0.889       0.96      0.698\n"
          ]
        },
        {
          "output_type": "stream",
          "name": "stderr",
          "text": [
            "\n"
          ]
        },
        {
          "output_type": "stream",
          "name": "stdout",
          "text": [
            "\n",
            "      Epoch    GPU_mem   box_loss   cls_loss   dfl_loss  Instances       Size\n"
          ]
        },
        {
          "output_type": "stream",
          "name": "stderr",
          "text": [
            "      26/30      7.31G     0.8863     0.4884      1.083          7        640: 100%|██████████| 295/295 [01:24<00:00,  3.50it/s]\n",
            "                 Class     Images  Instances      Box(P          R      mAP50  mAP50-95): 100%|██████████| 32/32 [00:07<00:00,  4.30it/s]"
          ]
        },
        {
          "output_type": "stream",
          "name": "stdout",
          "text": [
            "                   all        506       1666      0.942      0.903       0.96      0.703\n"
          ]
        },
        {
          "output_type": "stream",
          "name": "stderr",
          "text": [
            "\n"
          ]
        },
        {
          "output_type": "stream",
          "name": "stdout",
          "text": [
            "\n",
            "      Epoch    GPU_mem   box_loss   cls_loss   dfl_loss  Instances       Size\n"
          ]
        },
        {
          "output_type": "stream",
          "name": "stderr",
          "text": [
            "      27/30      7.78G      0.871     0.4737      1.081          7        640: 100%|██████████| 295/295 [01:23<00:00,  3.52it/s]\n",
            "                 Class     Images  Instances      Box(P          R      mAP50  mAP50-95): 100%|██████████| 32/32 [00:08<00:00,  3.95it/s]"
          ]
        },
        {
          "output_type": "stream",
          "name": "stdout",
          "text": [
            "                   all        506       1666      0.958       0.91      0.964      0.712\n"
          ]
        },
        {
          "output_type": "stream",
          "name": "stderr",
          "text": [
            "\n"
          ]
        },
        {
          "output_type": "stream",
          "name": "stdout",
          "text": [
            "\n",
            "      Epoch    GPU_mem   box_loss   cls_loss   dfl_loss  Instances       Size\n"
          ]
        },
        {
          "output_type": "stream",
          "name": "stderr",
          "text": [
            "      28/30      7.85G      0.853     0.4612      1.072          8        640: 100%|██████████| 295/295 [01:23<00:00,  3.51it/s]\n",
            "                 Class     Images  Instances      Box(P          R      mAP50  mAP50-95): 100%|██████████| 32/32 [00:08<00:00,  3.94it/s]"
          ]
        },
        {
          "output_type": "stream",
          "name": "stdout",
          "text": [
            "                   all        506       1666      0.961      0.904      0.966      0.711\n"
          ]
        },
        {
          "output_type": "stream",
          "name": "stderr",
          "text": [
            "\n"
          ]
        },
        {
          "output_type": "stream",
          "name": "stdout",
          "text": [
            "\n",
            "      Epoch    GPU_mem   box_loss   cls_loss   dfl_loss  Instances       Size\n"
          ]
        },
        {
          "output_type": "stream",
          "name": "stderr",
          "text": [
            "      29/30      7.91G     0.8457     0.4582      1.067         16        640: 100%|██████████| 295/295 [01:24<00:00,  3.49it/s]\n",
            "                 Class     Images  Instances      Box(P          R      mAP50  mAP50-95): 100%|██████████| 32/32 [00:07<00:00,  4.22it/s]"
          ]
        },
        {
          "output_type": "stream",
          "name": "stdout",
          "text": [
            "                   all        506       1666      0.961      0.906      0.967      0.711\n"
          ]
        },
        {
          "output_type": "stream",
          "name": "stderr",
          "text": [
            "\n"
          ]
        },
        {
          "output_type": "stream",
          "name": "stdout",
          "text": [
            "\n",
            "      Epoch    GPU_mem   box_loss   cls_loss   dfl_loss  Instances       Size\n"
          ]
        },
        {
          "output_type": "stream",
          "name": "stderr",
          "text": [
            "      30/30      7.97G     0.8312      0.434      1.062          5        640: 100%|██████████| 295/295 [01:24<00:00,  3.49it/s]\n",
            "                 Class     Images  Instances      Box(P          R      mAP50  mAP50-95): 100%|██████████| 32/32 [00:07<00:00,  4.39it/s]"
          ]
        },
        {
          "output_type": "stream",
          "name": "stdout",
          "text": [
            "                   all        506       1666      0.964      0.905      0.967      0.715\n"
          ]
        },
        {
          "output_type": "stream",
          "name": "stderr",
          "text": [
            "\n"
          ]
        },
        {
          "output_type": "stream",
          "name": "stdout",
          "text": [
            "\n",
            "30 epochs completed in 0.797 hours.\n",
            "Optimizer stripped from runs/detect/train/weights/last.pt, 52.0MB\n",
            "Optimizer stripped from runs/detect/train/weights/best.pt, 52.0MB\n",
            "\n",
            "Validating runs/detect/train/weights/best.pt...\n",
            "Ultralytics 8.3.102 🚀 Python-3.11.11 torch-2.6.0+cu124 CUDA:0 (Tesla T4, 15095MiB)\n",
            "Model summary (fused): 92 layers, 25,840,339 parameters, 0 gradients, 78.7 GFLOPs\n"
          ]
        },
        {
          "output_type": "stream",
          "name": "stderr",
          "text": [
            "                 Class     Images  Instances      Box(P          R      mAP50  mAP50-95): 100%|██████████| 32/32 [00:09<00:00,  3.27it/s]\n"
          ]
        },
        {
          "output_type": "stream",
          "name": "stdout",
          "text": [
            "                   all        506       1666      0.964      0.905      0.967      0.715\n",
            "Speed: 0.3ms preprocess, 9.7ms inference, 0.0ms loss, 2.0ms postprocess per image\n",
            "Results saved to \u001b[1mruns/detect/train\u001b[0m\n"
          ]
        },
        {
          "output_type": "execute_result",
          "data": {
            "text/plain": [
              "ultralytics.utils.metrics.DetMetrics object with attributes:\n",
              "\n",
              "ap_class_index: array([0])\n",
              "box: ultralytics.utils.metrics.Metric object\n",
              "confusion_matrix: <ultralytics.utils.metrics.ConfusionMatrix object at 0x7f692dfd9c90>\n",
              "curves: ['Precision-Recall(B)', 'F1-Confidence(B)', 'Precision-Confidence(B)', 'Recall-Confidence(B)']\n",
              "curves_results: [[array([          0,    0.001001,    0.002002,    0.003003,    0.004004,    0.005005,    0.006006,    0.007007,    0.008008,    0.009009,     0.01001,    0.011011,    0.012012,    0.013013,    0.014014,    0.015015,    0.016016,    0.017017,    0.018018,    0.019019,     0.02002,    0.021021,    0.022022,    0.023023,\n",
              "          0.024024,    0.025025,    0.026026,    0.027027,    0.028028,    0.029029,     0.03003,    0.031031,    0.032032,    0.033033,    0.034034,    0.035035,    0.036036,    0.037037,    0.038038,    0.039039,     0.04004,    0.041041,    0.042042,    0.043043,    0.044044,    0.045045,    0.046046,    0.047047,\n",
              "          0.048048,    0.049049,     0.05005,    0.051051,    0.052052,    0.053053,    0.054054,    0.055055,    0.056056,    0.057057,    0.058058,    0.059059,     0.06006,    0.061061,    0.062062,    0.063063,    0.064064,    0.065065,    0.066066,    0.067067,    0.068068,    0.069069,     0.07007,    0.071071,\n",
              "          0.072072,    0.073073,    0.074074,    0.075075,    0.076076,    0.077077,    0.078078,    0.079079,     0.08008,    0.081081,    0.082082,    0.083083,    0.084084,    0.085085,    0.086086,    0.087087,    0.088088,    0.089089,     0.09009,    0.091091,    0.092092,    0.093093,    0.094094,    0.095095,\n",
              "          0.096096,    0.097097,    0.098098,    0.099099,      0.1001,      0.1011,      0.1021,      0.1031,      0.1041,     0.10511,     0.10611,     0.10711,     0.10811,     0.10911,     0.11011,     0.11111,     0.11211,     0.11311,     0.11411,     0.11512,     0.11612,     0.11712,     0.11812,     0.11912,\n",
              "           0.12012,     0.12112,     0.12212,     0.12312,     0.12412,     0.12513,     0.12613,     0.12713,     0.12813,     0.12913,     0.13013,     0.13113,     0.13213,     0.13313,     0.13413,     0.13514,     0.13614,     0.13714,     0.13814,     0.13914,     0.14014,     0.14114,     0.14214,     0.14314,\n",
              "           0.14414,     0.14515,     0.14615,     0.14715,     0.14815,     0.14915,     0.15015,     0.15115,     0.15215,     0.15315,     0.15415,     0.15516,     0.15616,     0.15716,     0.15816,     0.15916,     0.16016,     0.16116,     0.16216,     0.16316,     0.16416,     0.16517,     0.16617,     0.16717,\n",
              "           0.16817,     0.16917,     0.17017,     0.17117,     0.17217,     0.17317,     0.17417,     0.17518,     0.17618,     0.17718,     0.17818,     0.17918,     0.18018,     0.18118,     0.18218,     0.18318,     0.18418,     0.18519,     0.18619,     0.18719,     0.18819,     0.18919,     0.19019,     0.19119,\n",
              "           0.19219,     0.19319,     0.19419,      0.1952,      0.1962,      0.1972,      0.1982,      0.1992,      0.2002,      0.2012,      0.2022,      0.2032,      0.2042,     0.20521,     0.20621,     0.20721,     0.20821,     0.20921,     0.21021,     0.21121,     0.21221,     0.21321,     0.21421,     0.21522,\n",
              "           0.21622,     0.21722,     0.21822,     0.21922,     0.22022,     0.22122,     0.22222,     0.22322,     0.22422,     0.22523,     0.22623,     0.22723,     0.22823,     0.22923,     0.23023,     0.23123,     0.23223,     0.23323,     0.23423,     0.23524,     0.23624,     0.23724,     0.23824,     0.23924,\n",
              "           0.24024,     0.24124,     0.24224,     0.24324,     0.24424,     0.24525,     0.24625,     0.24725,     0.24825,     0.24925,     0.25025,     0.25125,     0.25225,     0.25325,     0.25425,     0.25526,     0.25626,     0.25726,     0.25826,     0.25926,     0.26026,     0.26126,     0.26226,     0.26326,\n",
              "           0.26426,     0.26527,     0.26627,     0.26727,     0.26827,     0.26927,     0.27027,     0.27127,     0.27227,     0.27327,     0.27427,     0.27528,     0.27628,     0.27728,     0.27828,     0.27928,     0.28028,     0.28128,     0.28228,     0.28328,     0.28428,     0.28529,     0.28629,     0.28729,\n",
              "           0.28829,     0.28929,     0.29029,     0.29129,     0.29229,     0.29329,     0.29429,      0.2953,      0.2963,      0.2973,      0.2983,      0.2993,      0.3003,      0.3013,      0.3023,      0.3033,      0.3043,     0.30531,     0.30631,     0.30731,     0.30831,     0.30931,     0.31031,     0.31131,\n",
              "           0.31231,     0.31331,     0.31431,     0.31532,     0.31632,     0.31732,     0.31832,     0.31932,     0.32032,     0.32132,     0.32232,     0.32332,     0.32432,     0.32533,     0.32633,     0.32733,     0.32833,     0.32933,     0.33033,     0.33133,     0.33233,     0.33333,     0.33433,     0.33534,\n",
              "           0.33634,     0.33734,     0.33834,     0.33934,     0.34034,     0.34134,     0.34234,     0.34334,     0.34434,     0.34535,     0.34635,     0.34735,     0.34835,     0.34935,     0.35035,     0.35135,     0.35235,     0.35335,     0.35435,     0.35536,     0.35636,     0.35736,     0.35836,     0.35936,\n",
              "           0.36036,     0.36136,     0.36236,     0.36336,     0.36436,     0.36537,     0.36637,     0.36737,     0.36837,     0.36937,     0.37037,     0.37137,     0.37237,     0.37337,     0.37437,     0.37538,     0.37638,     0.37738,     0.37838,     0.37938,     0.38038,     0.38138,     0.38238,     0.38338,\n",
              "           0.38438,     0.38539,     0.38639,     0.38739,     0.38839,     0.38939,     0.39039,     0.39139,     0.39239,     0.39339,     0.39439,      0.3954,      0.3964,      0.3974,      0.3984,      0.3994,      0.4004,      0.4014,      0.4024,      0.4034,      0.4044,     0.40541,     0.40641,     0.40741,\n",
              "           0.40841,     0.40941,     0.41041,     0.41141,     0.41241,     0.41341,     0.41441,     0.41542,     0.41642,     0.41742,     0.41842,     0.41942,     0.42042,     0.42142,     0.42242,     0.42342,     0.42442,     0.42543,     0.42643,     0.42743,     0.42843,     0.42943,     0.43043,     0.43143,\n",
              "           0.43243,     0.43343,     0.43443,     0.43544,     0.43644,     0.43744,     0.43844,     0.43944,     0.44044,     0.44144,     0.44244,     0.44344,     0.44444,     0.44545,     0.44645,     0.44745,     0.44845,     0.44945,     0.45045,     0.45145,     0.45245,     0.45345,     0.45445,     0.45546,\n",
              "           0.45646,     0.45746,     0.45846,     0.45946,     0.46046,     0.46146,     0.46246,     0.46346,     0.46446,     0.46547,     0.46647,     0.46747,     0.46847,     0.46947,     0.47047,     0.47147,     0.47247,     0.47347,     0.47447,     0.47548,     0.47648,     0.47748,     0.47848,     0.47948,\n",
              "           0.48048,     0.48148,     0.48248,     0.48348,     0.48448,     0.48549,     0.48649,     0.48749,     0.48849,     0.48949,     0.49049,     0.49149,     0.49249,     0.49349,     0.49449,      0.4955,      0.4965,      0.4975,      0.4985,      0.4995,      0.5005,      0.5015,      0.5025,      0.5035,\n",
              "            0.5045,     0.50551,     0.50651,     0.50751,     0.50851,     0.50951,     0.51051,     0.51151,     0.51251,     0.51351,     0.51451,     0.51552,     0.51652,     0.51752,     0.51852,     0.51952,     0.52052,     0.52152,     0.52252,     0.52352,     0.52452,     0.52553,     0.52653,     0.52753,\n",
              "           0.52853,     0.52953,     0.53053,     0.53153,     0.53253,     0.53353,     0.53453,     0.53554,     0.53654,     0.53754,     0.53854,     0.53954,     0.54054,     0.54154,     0.54254,     0.54354,     0.54454,     0.54555,     0.54655,     0.54755,     0.54855,     0.54955,     0.55055,     0.55155,\n",
              "           0.55255,     0.55355,     0.55455,     0.55556,     0.55656,     0.55756,     0.55856,     0.55956,     0.56056,     0.56156,     0.56256,     0.56356,     0.56456,     0.56557,     0.56657,     0.56757,     0.56857,     0.56957,     0.57057,     0.57157,     0.57257,     0.57357,     0.57457,     0.57558,\n",
              "           0.57658,     0.57758,     0.57858,     0.57958,     0.58058,     0.58158,     0.58258,     0.58358,     0.58458,     0.58559,     0.58659,     0.58759,     0.58859,     0.58959,     0.59059,     0.59159,     0.59259,     0.59359,     0.59459,      0.5956,      0.5966,      0.5976,      0.5986,      0.5996,\n",
              "            0.6006,      0.6016,      0.6026,      0.6036,      0.6046,     0.60561,     0.60661,     0.60761,     0.60861,     0.60961,     0.61061,     0.61161,     0.61261,     0.61361,     0.61461,     0.61562,     0.61662,     0.61762,     0.61862,     0.61962,     0.62062,     0.62162,     0.62262,     0.62362,\n",
              "           0.62462,     0.62563,     0.62663,     0.62763,     0.62863,     0.62963,     0.63063,     0.63163,     0.63263,     0.63363,     0.63463,     0.63564,     0.63664,     0.63764,     0.63864,     0.63964,     0.64064,     0.64164,     0.64264,     0.64364,     0.64464,     0.64565,     0.64665,     0.64765,\n",
              "           0.64865,     0.64965,     0.65065,     0.65165,     0.65265,     0.65365,     0.65465,     0.65566,     0.65666,     0.65766,     0.65866,     0.65966,     0.66066,     0.66166,     0.66266,     0.66366,     0.66466,     0.66567,     0.66667,     0.66767,     0.66867,     0.66967,     0.67067,     0.67167,\n",
              "           0.67267,     0.67367,     0.67467,     0.67568,     0.67668,     0.67768,     0.67868,     0.67968,     0.68068,     0.68168,     0.68268,     0.68368,     0.68468,     0.68569,     0.68669,     0.68769,     0.68869,     0.68969,     0.69069,     0.69169,     0.69269,     0.69369,     0.69469,      0.6957,\n",
              "            0.6967,      0.6977,      0.6987,      0.6997,      0.7007,      0.7017,      0.7027,      0.7037,      0.7047,     0.70571,     0.70671,     0.70771,     0.70871,     0.70971,     0.71071,     0.71171,     0.71271,     0.71371,     0.71471,     0.71572,     0.71672,     0.71772,     0.71872,     0.71972,\n",
              "           0.72072,     0.72172,     0.72272,     0.72372,     0.72472,     0.72573,     0.72673,     0.72773,     0.72873,     0.72973,     0.73073,     0.73173,     0.73273,     0.73373,     0.73473,     0.73574,     0.73674,     0.73774,     0.73874,     0.73974,     0.74074,     0.74174,     0.74274,     0.74374,\n",
              "           0.74474,     0.74575,     0.74675,     0.74775,     0.74875,     0.74975,     0.75075,     0.75175,     0.75275,     0.75375,     0.75475,     0.75576,     0.75676,     0.75776,     0.75876,     0.75976,     0.76076,     0.76176,     0.76276,     0.76376,     0.76476,     0.76577,     0.76677,     0.76777,\n",
              "           0.76877,     0.76977,     0.77077,     0.77177,     0.77277,     0.77377,     0.77477,     0.77578,     0.77678,     0.77778,     0.77878,     0.77978,     0.78078,     0.78178,     0.78278,     0.78378,     0.78478,     0.78579,     0.78679,     0.78779,     0.78879,     0.78979,     0.79079,     0.79179,\n",
              "           0.79279,     0.79379,     0.79479,      0.7958,      0.7968,      0.7978,      0.7988,      0.7998,      0.8008,      0.8018,      0.8028,      0.8038,      0.8048,     0.80581,     0.80681,     0.80781,     0.80881,     0.80981,     0.81081,     0.81181,     0.81281,     0.81381,     0.81481,     0.81582,\n",
              "           0.81682,     0.81782,     0.81882,     0.81982,     0.82082,     0.82182,     0.82282,     0.82382,     0.82482,     0.82583,     0.82683,     0.82783,     0.82883,     0.82983,     0.83083,     0.83183,     0.83283,     0.83383,     0.83483,     0.83584,     0.83684,     0.83784,     0.83884,     0.83984,\n",
              "           0.84084,     0.84184,     0.84284,     0.84384,     0.84484,     0.84585,     0.84685,     0.84785,     0.84885,     0.84985,     0.85085,     0.85185,     0.85285,     0.85385,     0.85485,     0.85586,     0.85686,     0.85786,     0.85886,     0.85986,     0.86086,     0.86186,     0.86286,     0.86386,\n",
              "           0.86486,     0.86587,     0.86687,     0.86787,     0.86887,     0.86987,     0.87087,     0.87187,     0.87287,     0.87387,     0.87487,     0.87588,     0.87688,     0.87788,     0.87888,     0.87988,     0.88088,     0.88188,     0.88288,     0.88388,     0.88488,     0.88589,     0.88689,     0.88789,\n",
              "           0.88889,     0.88989,     0.89089,     0.89189,     0.89289,     0.89389,     0.89489,      0.8959,      0.8969,      0.8979,      0.8989,      0.8999,      0.9009,      0.9019,      0.9029,      0.9039,      0.9049,     0.90591,     0.90691,     0.90791,     0.90891,     0.90991,     0.91091,     0.91191,\n",
              "           0.91291,     0.91391,     0.91491,     0.91592,     0.91692,     0.91792,     0.91892,     0.91992,     0.92092,     0.92192,     0.92292,     0.92392,     0.92492,     0.92593,     0.92693,     0.92793,     0.92893,     0.92993,     0.93093,     0.93193,     0.93293,     0.93393,     0.93493,     0.93594,\n",
              "           0.93694,     0.93794,     0.93894,     0.93994,     0.94094,     0.94194,     0.94294,     0.94394,     0.94494,     0.94595,     0.94695,     0.94795,     0.94895,     0.94995,     0.95095,     0.95195,     0.95295,     0.95395,     0.95495,     0.95596,     0.95696,     0.95796,     0.95896,     0.95996,\n",
              "           0.96096,     0.96196,     0.96296,     0.96396,     0.96496,     0.96597,     0.96697,     0.96797,     0.96897,     0.96997,     0.97097,     0.97197,     0.97297,     0.97397,     0.97497,     0.97598,     0.97698,     0.97798,     0.97898,     0.97998,     0.98098,     0.98198,     0.98298,     0.98398,\n",
              "           0.98498,     0.98599,     0.98699,     0.98799,     0.98899,     0.98999,     0.99099,     0.99199,     0.99299,     0.99399,     0.99499,       0.996,       0.997,       0.998,       0.999,           1]), array([[          1,           1,           1,           1,           1,           1,           1,           1,           1,           1,           1,           1,           1,           1,           1,           1,           1,           1,           1,           1,           1,           1,           1,\n",
              "                  1,           1,           1,           1,           1,           1,           1,           1,           1,           1,           1,           1,           1,           1,           1,           1,           1,           1,           1,           1,           1,           1,           1,\n",
              "                  1,           1,           1,           1,           1,           1,           1,           1,           1,           1,           1,           1,           1,           1,           1,           1,           1,           1,           1,           1,           1,           1,           1,\n",
              "                  1,           1,           1,           1,           1,           1,           1,           1,           1,           1,           1,           1,           1,           1,           1,           1,           1,           1,           1,           1,           1,           1,           1,\n",
              "                  1,           1,           1,           1,           1,           1,           1,           1,           1,           1,           1,           1,           1,           1,           1,           1,           1,           1,           1,           1,           1,           1,           1,\n",
              "                  1,           1,           1,           1,           1,           1,           1,           1,           1,           1,           1,           1,           1,           1,           1,           1,           1,           1,           1,           1,           1,           1,           1,\n",
              "                  1,           1,           1,           1,           1,           1,           1,           1,           1,           1,           1,           1,           1,           1,           1,           1,           1,           1,           1,           1,           1,           1,           1,\n",
              "                  1,           1,           1,           1,           1,           1,           1,           1,           1,           1,           1,           1,           1,           1,           1,           1,           1,           1,           1,           1,           1,           1,           1,\n",
              "                  1,           1,           1,           1,           1,           1,           1,           1,           1,           1,           1,           1,           1,           1,           1,           1,           1,           1,           1,           1,           1,           1,           1,\n",
              "                  1,           1,           1,           1,           1,           1,           1,           1,           1,           1,           1,           1,           1,           1,           1,           1,           1,           1,           1,           1,           1,           1,           1,\n",
              "                  1,           1,           1,           1,           1,           1,           1,           1,           1,           1,           1,           1,           1,           1,           1,           1,           1,           1,           1,           1,           1,           1,           1,\n",
              "                  1,           1,           1,           1,           1,           1,           1,           1,           1,           1,           1,           1,           1,           1,           1,           1,           1,           1,           1,           1,           1,           1,           1,\n",
              "                  1,           1,           1,           1,           1,           1,           1,           1,           1,           1,           1,           1,           1,           1,           1,           1,           1,           1,           1,           1,           1,           1,           1,\n",
              "                  1,           1,           1,           1,           1,           1,           1,           1,           1,           1,           1,           1,           1,           1,           1,           1,           1,           1,           1,     0.99844,     0.99844,     0.99844,     0.99844,\n",
              "            0.99844,     0.99844,     0.99844,     0.99844,     0.99844,     0.99844,     0.99844,     0.99844,     0.99844,     0.99844,     0.99844,     0.99844,     0.99844,     0.99844,     0.99844,     0.99844,     0.99844,     0.99844,     0.99844,     0.99844,     0.99844,     0.99844,     0.99844,\n",
              "            0.99844,     0.99844,     0.99844,     0.99844,     0.99844,     0.99844,     0.99844,     0.99844,     0.99844,     0.99844,     0.99844,     0.99844,     0.99844,     0.99844,     0.99844,     0.99844,     0.99844,     0.99844,     0.99844,     0.99844,     0.99844,     0.99844,     0.99844,\n",
              "            0.99844,     0.99844,     0.99844,     0.99844,     0.99844,     0.99844,     0.99844,     0.99844,     0.99844,     0.99844,     0.99844,     0.99844,     0.99844,     0.99844,     0.99844,     0.99767,     0.99767,     0.99767,     0.99767,     0.99767,     0.99767,     0.99767,     0.99767,\n",
              "            0.99767,     0.99767,     0.99767,     0.99767,     0.99767,     0.99767,     0.99767,     0.99767,     0.99767,     0.99767,     0.99767,     0.99767,     0.99767,     0.99767,     0.99767,     0.99767,     0.99767,     0.99767,     0.99767,     0.99767,     0.99767,     0.99767,     0.99767,\n",
              "            0.99767,     0.99767,     0.99767,     0.99767,     0.99767,     0.99767,     0.99767,     0.99767,     0.99767,     0.99767,     0.99767,     0.99767,     0.99767,     0.99767,     0.99767,     0.99767,     0.99767,     0.99767,     0.99767,     0.99767,     0.99767,     0.99767,     0.99767,\n",
              "            0.99767,     0.99767,     0.99767,     0.99767,     0.99767,     0.99767,     0.99767,     0.99767,     0.99767,     0.99767,     0.99767,     0.99767,     0.99767,     0.99767,     0.99767,     0.99767,     0.99767,     0.99767,     0.99767,     0.99767,     0.99767,     0.99767,     0.99767,\n",
              "            0.99767,     0.99767,     0.99767,     0.99767,     0.99767,     0.99767,     0.99767,     0.99767,     0.99767,     0.99767,     0.99767,     0.99767,     0.99767,     0.99767,     0.99767,     0.99767,     0.99767,     0.99767,     0.99767,     0.99767,     0.99767,     0.99767,     0.99767,\n",
              "            0.99767,     0.99767,     0.99767,     0.99767,     0.99767,     0.99767,     0.99767,     0.99767,     0.99767,     0.99767,     0.99767,     0.99767,     0.99767,     0.99767,     0.99767,     0.99767,     0.99767,     0.99767,     0.99767,     0.99767,     0.99767,     0.99767,     0.99767,\n",
              "            0.99767,     0.99767,     0.99767,     0.99767,     0.99767,     0.99767,     0.99767,     0.99767,      0.9959,      0.9959,      0.9959,      0.9959,      0.9959,      0.9959,      0.9959,      0.9959,      0.9959,      0.9959,      0.9959,      0.9959,      0.9959,      0.9959,      0.9959,\n",
              "             0.9959,      0.9959,      0.9959,      0.9959,      0.9959,      0.9959,      0.9959,      0.9959,      0.9959,      0.9959,      0.9959,      0.9959,      0.9959,      0.9959,      0.9959,      0.9959,      0.9959,      0.9959,      0.9959,      0.9959,      0.9959,      0.9959,      0.9959,\n",
              "             0.9959,      0.9959,      0.9959,      0.9959,      0.9959,      0.9959,      0.9959,      0.9959,      0.9959,      0.9959,      0.9959,      0.9959,      0.9959,      0.9959,      0.9959,      0.9959,      0.9959,      0.9959,      0.9959,      0.9959,      0.9959,      0.9959,      0.9959,\n",
              "             0.9959,      0.9959,      0.9959,      0.9959,      0.9959,      0.9959,      0.9959,      0.9959,     0.99542,     0.99542,     0.99542,     0.99542,     0.99542,     0.99542,     0.99542,     0.99542,     0.99542,     0.99542,     0.99542,     0.99542,     0.99542,     0.99542,     0.99542,\n",
              "            0.99542,     0.99542,     0.99542,     0.99542,     0.99542,     0.99542,     0.99542,     0.99542,     0.99542,     0.99542,     0.99542,     0.99542,     0.99542,     0.99542,     0.99542,     0.99542,     0.99542,     0.99542,     0.99542,     0.99542,     0.99542,     0.99542,     0.99542,\n",
              "            0.99542,     0.99542,     0.99542,     0.99542,     0.99542,     0.99542,     0.99542,     0.99542,     0.99542,     0.99542,     0.99542,     0.99542,     0.99542,     0.99542,     0.99542,     0.99542,     0.99542,     0.99542,     0.99542,     0.99542,     0.99542,     0.99542,     0.99542,\n",
              "            0.99542,     0.99542,     0.99542,     0.99542,     0.99542,     0.99542,     0.99542,     0.99542,     0.99453,     0.99453,     0.99453,     0.99421,     0.99421,     0.99421,     0.99421,     0.99421,     0.99421,     0.99421,     0.99421,     0.99421,     0.99421,     0.99421,     0.99421,\n",
              "            0.99421,     0.99421,     0.99421,     0.99421,     0.99421,     0.99421,     0.99421,     0.99421,     0.99421,     0.99421,     0.99421,     0.99421,     0.99421,     0.99421,     0.99421,     0.99421,     0.99421,     0.99421,     0.99421,     0.99421,     0.99421,     0.99421,     0.99421,\n",
              "            0.99421,     0.99421,     0.99421,     0.99421,     0.99421,     0.99421,     0.99421,     0.99421,     0.99421,     0.99421,     0.99421,     0.99421,     0.99421,     0.99421,     0.99421,     0.99421,     0.99421,     0.99421,     0.99421,     0.99421,     0.99421,     0.99421,     0.99421,\n",
              "            0.99421,     0.99421,     0.99421,     0.99421,     0.99421,     0.99421,     0.99421,     0.99421,     0.99421,     0.99347,     0.99347,     0.99347,     0.99347,     0.99347,     0.99347,     0.99347,     0.99347,     0.99267,     0.99201,     0.99201,     0.99201,     0.99201,     0.99201,\n",
              "            0.99201,     0.99201,     0.99201,     0.99201,     0.99201,     0.99201,     0.99201,     0.99201,     0.99201,     0.99145,     0.99145,     0.99145,     0.99145,     0.99145,     0.99145,     0.99145,     0.99145,     0.99145,     0.99145,     0.99145,     0.99145,     0.99145,     0.99145,\n",
              "            0.99145,     0.99145,     0.99145,     0.99145,     0.99145,     0.99145,     0.99091,     0.99091,     0.99091,     0.99091,     0.99091,     0.99091,     0.99091,     0.99091,     0.99091,     0.99091,     0.99091,     0.99091,     0.99091,     0.99091,     0.99091,     0.99091,     0.99091,\n",
              "            0.99091,     0.99091,     0.99091,     0.98943,     0.98873,     0.98873,     0.98873,     0.98873,     0.98807,     0.98807,     0.98807,     0.98807,     0.98807,      0.9876,      0.9876,      0.9876,      0.9876,      0.9876,      0.9876,      0.9876,      0.9876,      0.9876,      0.9876,\n",
              "             0.9876,      0.9876,      0.9876,      0.9876,      0.9876,      0.9876,      0.9876,     0.98563,     0.98563,     0.98563,     0.98563,     0.98563,     0.98563,     0.98563,     0.98563,     0.98563,     0.98563,     0.98563,     0.98496,     0.98496,     0.98447,     0.98447,     0.98447,\n",
              "            0.98447,     0.98447,     0.98447,     0.98447,     0.98447,     0.98447,     0.98447,     0.98447,     0.98447,      0.9839,      0.9839,      0.9839,      0.9839,      0.9839,      0.9839,      0.9839,     0.98324,     0.98263,     0.98263,     0.98263,     0.98197,     0.98197,     0.98068,\n",
              "            0.98068,     0.98068,     0.98018,     0.98018,     0.98018,     0.98018,     0.98018,     0.98018,     0.98018,     0.97952,       0.979,       0.979,       0.979,       0.979,       0.979,       0.979,     0.97849,     0.97849,     0.97849,     0.97849,     0.97849,     0.97849,     0.97849,\n",
              "            0.97794,     0.97794,     0.97794,     0.97794,     0.97733,     0.97733,     0.97671,     0.97624,     0.97624,     0.97624,     0.97624,     0.97624,     0.97624,     0.97561,     0.97498,     0.97449,     0.97449,     0.97449,     0.97449,     0.97449,     0.97389,     0.97267,     0.97267,\n",
              "             0.9708,     0.97021,     0.96778,     0.96778,     0.96722,     0.96722,     0.96603,     0.96358,      0.9624,     0.96181,     0.96005,     0.95947,     0.95889,     0.95655,     0.95537,      0.9542,     0.95307,     0.94956,       0.949,     0.94444,     0.94444,      0.9439,     0.94107,\n",
              "            0.93378,     0.93378,     0.93269,     0.93164,      0.9272,     0.92617,     0.92349,     0.92303,     0.92033,     0.91825,     0.91397,     0.91085,     0.90952,     0.90952,     0.90952,     0.89347,     0.89251,      0.8906,     0.88325,     0.88325,     0.88189,     0.88103,     0.87814,\n",
              "            0.87292,     0.87161,     0.87024,     0.86615,     0.86339,     0.85691,     0.85337,      0.8504,      0.8504,     0.84244,      0.8329,     0.82778,     0.82496,     0.81711,     0.81553,     0.80302,      0.7984,     0.79612,     0.78966,     0.76611,     0.76114,     0.76064,     0.74988,\n",
              "            0.73798,     0.71657,     0.67489,     0.65745,     0.64565,     0.62308,     0.61965,     0.60787,     0.57994,     0.55628,     0.52584,      0.4917,     0.48716,     0.46117,     0.41424,     0.38823,     0.35663,     0.34724,     0.31323,     0.30119,      0.2328,     0.22179,     0.20331,\n",
              "            0.18482,     0.16634,     0.14786,     0.12938,     0.11089,    0.092412,     0.07393,    0.055447,    0.036965,    0.018482,           0]]), 'Recall', 'Precision'], [array([          0,    0.001001,    0.002002,    0.003003,    0.004004,    0.005005,    0.006006,    0.007007,    0.008008,    0.009009,     0.01001,    0.011011,    0.012012,    0.013013,    0.014014,    0.015015,    0.016016,    0.017017,    0.018018,    0.019019,     0.02002,    0.021021,    0.022022,    0.023023,\n",
              "          0.024024,    0.025025,    0.026026,    0.027027,    0.028028,    0.029029,     0.03003,    0.031031,    0.032032,    0.033033,    0.034034,    0.035035,    0.036036,    0.037037,    0.038038,    0.039039,     0.04004,    0.041041,    0.042042,    0.043043,    0.044044,    0.045045,    0.046046,    0.047047,\n",
              "          0.048048,    0.049049,     0.05005,    0.051051,    0.052052,    0.053053,    0.054054,    0.055055,    0.056056,    0.057057,    0.058058,    0.059059,     0.06006,    0.061061,    0.062062,    0.063063,    0.064064,    0.065065,    0.066066,    0.067067,    0.068068,    0.069069,     0.07007,    0.071071,\n",
              "          0.072072,    0.073073,    0.074074,    0.075075,    0.076076,    0.077077,    0.078078,    0.079079,     0.08008,    0.081081,    0.082082,    0.083083,    0.084084,    0.085085,    0.086086,    0.087087,    0.088088,    0.089089,     0.09009,    0.091091,    0.092092,    0.093093,    0.094094,    0.095095,\n",
              "          0.096096,    0.097097,    0.098098,    0.099099,      0.1001,      0.1011,      0.1021,      0.1031,      0.1041,     0.10511,     0.10611,     0.10711,     0.10811,     0.10911,     0.11011,     0.11111,     0.11211,     0.11311,     0.11411,     0.11512,     0.11612,     0.11712,     0.11812,     0.11912,\n",
              "           0.12012,     0.12112,     0.12212,     0.12312,     0.12412,     0.12513,     0.12613,     0.12713,     0.12813,     0.12913,     0.13013,     0.13113,     0.13213,     0.13313,     0.13413,     0.13514,     0.13614,     0.13714,     0.13814,     0.13914,     0.14014,     0.14114,     0.14214,     0.14314,\n",
              "           0.14414,     0.14515,     0.14615,     0.14715,     0.14815,     0.14915,     0.15015,     0.15115,     0.15215,     0.15315,     0.15415,     0.15516,     0.15616,     0.15716,     0.15816,     0.15916,     0.16016,     0.16116,     0.16216,     0.16316,     0.16416,     0.16517,     0.16617,     0.16717,\n",
              "           0.16817,     0.16917,     0.17017,     0.17117,     0.17217,     0.17317,     0.17417,     0.17518,     0.17618,     0.17718,     0.17818,     0.17918,     0.18018,     0.18118,     0.18218,     0.18318,     0.18418,     0.18519,     0.18619,     0.18719,     0.18819,     0.18919,     0.19019,     0.19119,\n",
              "           0.19219,     0.19319,     0.19419,      0.1952,      0.1962,      0.1972,      0.1982,      0.1992,      0.2002,      0.2012,      0.2022,      0.2032,      0.2042,     0.20521,     0.20621,     0.20721,     0.20821,     0.20921,     0.21021,     0.21121,     0.21221,     0.21321,     0.21421,     0.21522,\n",
              "           0.21622,     0.21722,     0.21822,     0.21922,     0.22022,     0.22122,     0.22222,     0.22322,     0.22422,     0.22523,     0.22623,     0.22723,     0.22823,     0.22923,     0.23023,     0.23123,     0.23223,     0.23323,     0.23423,     0.23524,     0.23624,     0.23724,     0.23824,     0.23924,\n",
              "           0.24024,     0.24124,     0.24224,     0.24324,     0.24424,     0.24525,     0.24625,     0.24725,     0.24825,     0.24925,     0.25025,     0.25125,     0.25225,     0.25325,     0.25425,     0.25526,     0.25626,     0.25726,     0.25826,     0.25926,     0.26026,     0.26126,     0.26226,     0.26326,\n",
              "           0.26426,     0.26527,     0.26627,     0.26727,     0.26827,     0.26927,     0.27027,     0.27127,     0.27227,     0.27327,     0.27427,     0.27528,     0.27628,     0.27728,     0.27828,     0.27928,     0.28028,     0.28128,     0.28228,     0.28328,     0.28428,     0.28529,     0.28629,     0.28729,\n",
              "           0.28829,     0.28929,     0.29029,     0.29129,     0.29229,     0.29329,     0.29429,      0.2953,      0.2963,      0.2973,      0.2983,      0.2993,      0.3003,      0.3013,      0.3023,      0.3033,      0.3043,     0.30531,     0.30631,     0.30731,     0.30831,     0.30931,     0.31031,     0.31131,\n",
              "           0.31231,     0.31331,     0.31431,     0.31532,     0.31632,     0.31732,     0.31832,     0.31932,     0.32032,     0.32132,     0.32232,     0.32332,     0.32432,     0.32533,     0.32633,     0.32733,     0.32833,     0.32933,     0.33033,     0.33133,     0.33233,     0.33333,     0.33433,     0.33534,\n",
              "           0.33634,     0.33734,     0.33834,     0.33934,     0.34034,     0.34134,     0.34234,     0.34334,     0.34434,     0.34535,     0.34635,     0.34735,     0.34835,     0.34935,     0.35035,     0.35135,     0.35235,     0.35335,     0.35435,     0.35536,     0.35636,     0.35736,     0.35836,     0.35936,\n",
              "           0.36036,     0.36136,     0.36236,     0.36336,     0.36436,     0.36537,     0.36637,     0.36737,     0.36837,     0.36937,     0.37037,     0.37137,     0.37237,     0.37337,     0.37437,     0.37538,     0.37638,     0.37738,     0.37838,     0.37938,     0.38038,     0.38138,     0.38238,     0.38338,\n",
              "           0.38438,     0.38539,     0.38639,     0.38739,     0.38839,     0.38939,     0.39039,     0.39139,     0.39239,     0.39339,     0.39439,      0.3954,      0.3964,      0.3974,      0.3984,      0.3994,      0.4004,      0.4014,      0.4024,      0.4034,      0.4044,     0.40541,     0.40641,     0.40741,\n",
              "           0.40841,     0.40941,     0.41041,     0.41141,     0.41241,     0.41341,     0.41441,     0.41542,     0.41642,     0.41742,     0.41842,     0.41942,     0.42042,     0.42142,     0.42242,     0.42342,     0.42442,     0.42543,     0.42643,     0.42743,     0.42843,     0.42943,     0.43043,     0.43143,\n",
              "           0.43243,     0.43343,     0.43443,     0.43544,     0.43644,     0.43744,     0.43844,     0.43944,     0.44044,     0.44144,     0.44244,     0.44344,     0.44444,     0.44545,     0.44645,     0.44745,     0.44845,     0.44945,     0.45045,     0.45145,     0.45245,     0.45345,     0.45445,     0.45546,\n",
              "           0.45646,     0.45746,     0.45846,     0.45946,     0.46046,     0.46146,     0.46246,     0.46346,     0.46446,     0.46547,     0.46647,     0.46747,     0.46847,     0.46947,     0.47047,     0.47147,     0.47247,     0.47347,     0.47447,     0.47548,     0.47648,     0.47748,     0.47848,     0.47948,\n",
              "           0.48048,     0.48148,     0.48248,     0.48348,     0.48448,     0.48549,     0.48649,     0.48749,     0.48849,     0.48949,     0.49049,     0.49149,     0.49249,     0.49349,     0.49449,      0.4955,      0.4965,      0.4975,      0.4985,      0.4995,      0.5005,      0.5015,      0.5025,      0.5035,\n",
              "            0.5045,     0.50551,     0.50651,     0.50751,     0.50851,     0.50951,     0.51051,     0.51151,     0.51251,     0.51351,     0.51451,     0.51552,     0.51652,     0.51752,     0.51852,     0.51952,     0.52052,     0.52152,     0.52252,     0.52352,     0.52452,     0.52553,     0.52653,     0.52753,\n",
              "           0.52853,     0.52953,     0.53053,     0.53153,     0.53253,     0.53353,     0.53453,     0.53554,     0.53654,     0.53754,     0.53854,     0.53954,     0.54054,     0.54154,     0.54254,     0.54354,     0.54454,     0.54555,     0.54655,     0.54755,     0.54855,     0.54955,     0.55055,     0.55155,\n",
              "           0.55255,     0.55355,     0.55455,     0.55556,     0.55656,     0.55756,     0.55856,     0.55956,     0.56056,     0.56156,     0.56256,     0.56356,     0.56456,     0.56557,     0.56657,     0.56757,     0.56857,     0.56957,     0.57057,     0.57157,     0.57257,     0.57357,     0.57457,     0.57558,\n",
              "           0.57658,     0.57758,     0.57858,     0.57958,     0.58058,     0.58158,     0.58258,     0.58358,     0.58458,     0.58559,     0.58659,     0.58759,     0.58859,     0.58959,     0.59059,     0.59159,     0.59259,     0.59359,     0.59459,      0.5956,      0.5966,      0.5976,      0.5986,      0.5996,\n",
              "            0.6006,      0.6016,      0.6026,      0.6036,      0.6046,     0.60561,     0.60661,     0.60761,     0.60861,     0.60961,     0.61061,     0.61161,     0.61261,     0.61361,     0.61461,     0.61562,     0.61662,     0.61762,     0.61862,     0.61962,     0.62062,     0.62162,     0.62262,     0.62362,\n",
              "           0.62462,     0.62563,     0.62663,     0.62763,     0.62863,     0.62963,     0.63063,     0.63163,     0.63263,     0.63363,     0.63463,     0.63564,     0.63664,     0.63764,     0.63864,     0.63964,     0.64064,     0.64164,     0.64264,     0.64364,     0.64464,     0.64565,     0.64665,     0.64765,\n",
              "           0.64865,     0.64965,     0.65065,     0.65165,     0.65265,     0.65365,     0.65465,     0.65566,     0.65666,     0.65766,     0.65866,     0.65966,     0.66066,     0.66166,     0.66266,     0.66366,     0.66466,     0.66567,     0.66667,     0.66767,     0.66867,     0.66967,     0.67067,     0.67167,\n",
              "           0.67267,     0.67367,     0.67467,     0.67568,     0.67668,     0.67768,     0.67868,     0.67968,     0.68068,     0.68168,     0.68268,     0.68368,     0.68468,     0.68569,     0.68669,     0.68769,     0.68869,     0.68969,     0.69069,     0.69169,     0.69269,     0.69369,     0.69469,      0.6957,\n",
              "            0.6967,      0.6977,      0.6987,      0.6997,      0.7007,      0.7017,      0.7027,      0.7037,      0.7047,     0.70571,     0.70671,     0.70771,     0.70871,     0.70971,     0.71071,     0.71171,     0.71271,     0.71371,     0.71471,     0.71572,     0.71672,     0.71772,     0.71872,     0.71972,\n",
              "           0.72072,     0.72172,     0.72272,     0.72372,     0.72472,     0.72573,     0.72673,     0.72773,     0.72873,     0.72973,     0.73073,     0.73173,     0.73273,     0.73373,     0.73473,     0.73574,     0.73674,     0.73774,     0.73874,     0.73974,     0.74074,     0.74174,     0.74274,     0.74374,\n",
              "           0.74474,     0.74575,     0.74675,     0.74775,     0.74875,     0.74975,     0.75075,     0.75175,     0.75275,     0.75375,     0.75475,     0.75576,     0.75676,     0.75776,     0.75876,     0.75976,     0.76076,     0.76176,     0.76276,     0.76376,     0.76476,     0.76577,     0.76677,     0.76777,\n",
              "           0.76877,     0.76977,     0.77077,     0.77177,     0.77277,     0.77377,     0.77477,     0.77578,     0.77678,     0.77778,     0.77878,     0.77978,     0.78078,     0.78178,     0.78278,     0.78378,     0.78478,     0.78579,     0.78679,     0.78779,     0.78879,     0.78979,     0.79079,     0.79179,\n",
              "           0.79279,     0.79379,     0.79479,      0.7958,      0.7968,      0.7978,      0.7988,      0.7998,      0.8008,      0.8018,      0.8028,      0.8038,      0.8048,     0.80581,     0.80681,     0.80781,     0.80881,     0.80981,     0.81081,     0.81181,     0.81281,     0.81381,     0.81481,     0.81582,\n",
              "           0.81682,     0.81782,     0.81882,     0.81982,     0.82082,     0.82182,     0.82282,     0.82382,     0.82482,     0.82583,     0.82683,     0.82783,     0.82883,     0.82983,     0.83083,     0.83183,     0.83283,     0.83383,     0.83483,     0.83584,     0.83684,     0.83784,     0.83884,     0.83984,\n",
              "           0.84084,     0.84184,     0.84284,     0.84384,     0.84484,     0.84585,     0.84685,     0.84785,     0.84885,     0.84985,     0.85085,     0.85185,     0.85285,     0.85385,     0.85485,     0.85586,     0.85686,     0.85786,     0.85886,     0.85986,     0.86086,     0.86186,     0.86286,     0.86386,\n",
              "           0.86486,     0.86587,     0.86687,     0.86787,     0.86887,     0.86987,     0.87087,     0.87187,     0.87287,     0.87387,     0.87487,     0.87588,     0.87688,     0.87788,     0.87888,     0.87988,     0.88088,     0.88188,     0.88288,     0.88388,     0.88488,     0.88589,     0.88689,     0.88789,\n",
              "           0.88889,     0.88989,     0.89089,     0.89189,     0.89289,     0.89389,     0.89489,      0.8959,      0.8969,      0.8979,      0.8989,      0.8999,      0.9009,      0.9019,      0.9029,      0.9039,      0.9049,     0.90591,     0.90691,     0.90791,     0.90891,     0.90991,     0.91091,     0.91191,\n",
              "           0.91291,     0.91391,     0.91491,     0.91592,     0.91692,     0.91792,     0.91892,     0.91992,     0.92092,     0.92192,     0.92292,     0.92392,     0.92492,     0.92593,     0.92693,     0.92793,     0.92893,     0.92993,     0.93093,     0.93193,     0.93293,     0.93393,     0.93493,     0.93594,\n",
              "           0.93694,     0.93794,     0.93894,     0.93994,     0.94094,     0.94194,     0.94294,     0.94394,     0.94494,     0.94595,     0.94695,     0.94795,     0.94895,     0.94995,     0.95095,     0.95195,     0.95295,     0.95395,     0.95495,     0.95596,     0.95696,     0.95796,     0.95896,     0.95996,\n",
              "           0.96096,     0.96196,     0.96296,     0.96396,     0.96496,     0.96597,     0.96697,     0.96797,     0.96897,     0.96997,     0.97097,     0.97197,     0.97297,     0.97397,     0.97497,     0.97598,     0.97698,     0.97798,     0.97898,     0.97998,     0.98098,     0.98198,     0.98298,     0.98398,\n",
              "           0.98498,     0.98599,     0.98699,     0.98799,     0.98899,     0.98999,     0.99099,     0.99199,     0.99299,     0.99399,     0.99499,       0.996,       0.997,       0.998,       0.999,           1]), array([[    0.37669,     0.37669,     0.47134,     0.52501,     0.56272,     0.59356,      0.6165,      0.6356,     0.65033,     0.66175,     0.67301,     0.68466,     0.69258,     0.69993,     0.70836,     0.71554,     0.72349,     0.73031,     0.73583,     0.74022,     0.74638,     0.75011,     0.75496,\n",
              "            0.75807,     0.76228,     0.76633,     0.76974,     0.77438,     0.77593,     0.77952,     0.78254,     0.78535,      0.7895,     0.79103,     0.79441,     0.79655,     0.79929,     0.80157,     0.80361,     0.80737,     0.80894,     0.81138,     0.81389,     0.81549,     0.81756,     0.81869,\n",
              "            0.81972,     0.82146,     0.82281,     0.82373,     0.82466,     0.82588,     0.82647,     0.82714,     0.82843,     0.82984,     0.83115,     0.83306,     0.83546,     0.83656,     0.83699,     0.83797,     0.83903,     0.83965,     0.84157,     0.84246,     0.84349,     0.84447,     0.84519,\n",
              "            0.84657,     0.84788,     0.84969,     0.85061,     0.85063,     0.85042,     0.85082,     0.85162,     0.85241,     0.85306,     0.85415,     0.85508,     0.85558,     0.85683,     0.85781,     0.85819,      0.8589,     0.85951,     0.86042,     0.86159,     0.86213,     0.86298,     0.86361,\n",
              "            0.86389,     0.86475,     0.86605,     0.86607,      0.8673,     0.86762,     0.86818,     0.86836,     0.86889,     0.87038,     0.87062,     0.87092,     0.87168,     0.87188,     0.87213,     0.87229,     0.87275,     0.87364,     0.87416,     0.87407,     0.87497,     0.87576,     0.87641,\n",
              "            0.87678,     0.87695,     0.87715,     0.87728,      0.8774,     0.87768,     0.87824,     0.87853,     0.87945,      0.8805,     0.88169,     0.88207,     0.88275,     0.88365,      0.8843,     0.88449,     0.88516,     0.88573,     0.88591,     0.88572,     0.88589,      0.8862,     0.88681,\n",
              "            0.88748,     0.88813,     0.88858,     0.88869,     0.88898,     0.88946,     0.88954,     0.88962,     0.88971,     0.89022,     0.89148,       0.892,     0.89235,     0.89277,     0.89289,     0.89324,       0.894,     0.89414,     0.89459,      0.8947,     0.89481,     0.89533,     0.89557,\n",
              "             0.8965,     0.89676,     0.89699,     0.89726,     0.89737,     0.89747,     0.89756,     0.89801,     0.89795,     0.89777,     0.89844,     0.89826,     0.89826,     0.89869,     0.89877,     0.89884,     0.89892,     0.89914,     0.89904,     0.89946,     0.89959,     0.89973,     0.90017,\n",
              "            0.90053,     0.90103,     0.90143,     0.90166,      0.9018,     0.90214,     0.90237,     0.90258,     0.90315,     0.90325,     0.90336,     0.90356,      0.9037,      0.9038,     0.90385,     0.90378,     0.90466,     0.90488,     0.90503,      0.9048,     0.90463,     0.90444,     0.90421,\n",
              "            0.90438,     0.90479,     0.90511,     0.90553,     0.90592,     0.90642,      0.9063,     0.90682,     0.90674,     0.90647,     0.90677,     0.90713,     0.90701,     0.90689,     0.90714,     0.90764,     0.90778,     0.90817,      0.9083,     0.90867,     0.90916,     0.90937,     0.90913,\n",
              "            0.90926,     0.90947,     0.91026,     0.91043,     0.91052,     0.91062,      0.9105,     0.91017,     0.91042,     0.91031,     0.91069,     0.91065,     0.91012,     0.91048,     0.91111,     0.91148,     0.91156,     0.91163,     0.91173,     0.91193,     0.91275,     0.91293,     0.91365,\n",
              "            0.91378,     0.91372,     0.91357,     0.91351,     0.91353,     0.91379,     0.91402,     0.91414,     0.91401,     0.91417,     0.91428,     0.91459,     0.91495,     0.91559,     0.91557,     0.91545,     0.91569,     0.91581,     0.91594,     0.91625,     0.91641,     0.91669,     0.91729,\n",
              "            0.91738,     0.91746,     0.91755,     0.91762,     0.91769,     0.91775,     0.91784,     0.91868,     0.91884,     0.91902,     0.91923,     0.91951,     0.91967,     0.92053,      0.9208,     0.92093,     0.92105,      0.9213,      0.9215,     0.92173,     0.92213,     0.92205,     0.92197,\n",
              "            0.92189,     0.92169,     0.92143,     0.92124,     0.92103,     0.92082,     0.92064,     0.92067,     0.92083,     0.92113,      0.9213,     0.92111,     0.92112,     0.92131,      0.9216,      0.9219,     0.92206,      0.9223,      0.9221,     0.92222,     0.92238,     0.92254,     0.92277,\n",
              "            0.92326,     0.92342,     0.92349,     0.92354,      0.9236,     0.92365,      0.9237,     0.92399,     0.92404,     0.92408,     0.92413,     0.92417,     0.92422,     0.92426,     0.92398,     0.92427,     0.92477,     0.92472,     0.92468,     0.92463,     0.92459,     0.92454,     0.92449,\n",
              "            0.92448,     0.92464,     0.92455,     0.92461,     0.92517,     0.92552,     0.92562,     0.92572,     0.92542,     0.92525,     0.92529,     0.92535,     0.92523,     0.92511,      0.9252,     0.92531,     0.92546,     0.92575,     0.92579,     0.92578,     0.92593,       0.926,     0.92607,\n",
              "            0.92614,     0.92586,     0.92583,     0.92592,     0.92602,     0.92594,     0.92593,     0.92643,      0.9266,     0.92666,     0.92672,     0.92677,     0.92683,     0.92747,     0.92761,      0.9278,     0.92777,     0.92778,      0.9278,     0.92763,     0.92796,      0.9281,     0.92717,\n",
              "            0.92727,     0.92736,     0.92774,     0.92791,     0.92812,     0.92841,      0.9286,     0.92866,     0.92872,     0.92878,     0.92884,     0.92959,     0.92993,      0.9301,     0.93024,     0.93035,     0.93046,     0.93053,     0.93046,      0.9304,     0.93033,     0.93026,     0.93039,\n",
              "            0.93021,     0.93032,     0.93042,      0.9302,     0.93029,     0.93039,     0.93063,     0.93092,     0.93121,     0.93117,     0.93105,     0.93098,      0.9312,     0.93103,     0.93056,     0.93047,     0.93039,      0.9303,     0.93029,     0.93044,     0.93085,     0.93096,     0.93106,\n",
              "            0.93148,     0.93162,     0.93183,     0.93166,     0.93185,     0.93202,     0.93217,     0.93208,       0.932,     0.93191,     0.93183,     0.93196,     0.93211,     0.93215,     0.93219,     0.93222,     0.93226,      0.9323,     0.93234,     0.93237,      0.9327,     0.93273,     0.93277,\n",
              "            0.93281,     0.93284,     0.93288,     0.93292,     0.93295,      0.9329,     0.93279,     0.93267,     0.93284,     0.93295,     0.93305,     0.93315,      0.9329,     0.93285,     0.93305,     0.93308,     0.93359,     0.93302,     0.93308,     0.93314,     0.93319,     0.93322,     0.93336,\n",
              "             0.9335,     0.93358,     0.93365,     0.93372,     0.93351,     0.93345,     0.93359,     0.93362,     0.93333,     0.93316,     0.93281,     0.93306,      0.9332,     0.93344,     0.93329,     0.93339,     0.93349,     0.93345,     0.93329,     0.93329,     0.93344,     0.93335,     0.93335,\n",
              "            0.93318,     0.93319,     0.93329,     0.93339,     0.93364,     0.93393,     0.93405,     0.93413,      0.9342,     0.93428,      0.9338,     0.93363,     0.93405,      0.9342,     0.93387,     0.93354,     0.93342,     0.93331,     0.93324,     0.93314,     0.93297,     0.93277,     0.93281,\n",
              "            0.93291,     0.93301,     0.93311,     0.93321,     0.93331,     0.93331,     0.93314,     0.93316,     0.93295,     0.93284,     0.93273,     0.93293,     0.93287,     0.93282,     0.93276,      0.9327,     0.93265,     0.93311,     0.93341,     0.93338,     0.93321,     0.93304,     0.93287,\n",
              "            0.93256,     0.93256,     0.93264,     0.93271,     0.93279,     0.93297,     0.93259,     0.93263,     0.93245,     0.93234,     0.93229,     0.93223,     0.93217,     0.93211,     0.93206,     0.93181,     0.93147,     0.93112,     0.93078,     0.93057,      0.9304,     0.93008,     0.92999,\n",
              "            0.92994,     0.92989,     0.92984,     0.92979,     0.92974,      0.9297,     0.92998,     0.92975,     0.92982,     0.92991,     0.92987,     0.92983,     0.92979,     0.92974,      0.9297,     0.92966,     0.92961,     0.92972,     0.92987,     0.92975,     0.92958,     0.92868,      0.9284,\n",
              "            0.92751,     0.92745,     0.92739,     0.92734,     0.92728,     0.92722,     0.92676,     0.92658,      0.9263,     0.92646,     0.92639,     0.92632,     0.92625,     0.92618,      0.9261,     0.92598,     0.92587,     0.92605,     0.92595,     0.92585,     0.92575,     0.92541,     0.92524,\n",
              "            0.92507,     0.92514,     0.92521,     0.92527,     0.92534,     0.92514,     0.92479,     0.92444,     0.92426,     0.92414,     0.92403,     0.92307,     0.92321,     0.92304,      0.9228,     0.92147,     0.92123,     0.92037,     0.92019,     0.91984,     0.91979,     0.91965,     0.91951,\n",
              "             0.9189,     0.91854,     0.91784,     0.91694,      0.9168,     0.91642,     0.91661,     0.91649,     0.91637,     0.91655,     0.91645,     0.91635,     0.91625,     0.91611,     0.91597,     0.91585,     0.91574,     0.91564,     0.91519,     0.91512,     0.91504,     0.91496,     0.91488,\n",
              "            0.91461,     0.91426,     0.91399,     0.91337,     0.91231,     0.91225,     0.91142,     0.91115,     0.91103,     0.91091,     0.91109,     0.91063,     0.91062,     0.91032,     0.91007,     0.90937,     0.90923,     0.90909,     0.90875,     0.90839,     0.90814,     0.90781,     0.90756,\n",
              "            0.90723,      0.9071,     0.90704,     0.90698,     0.90692,     0.90686,      0.9068,     0.90657,     0.90628,     0.90556,     0.90496,     0.90424,     0.90352,     0.90328,     0.90268,     0.90242,     0.90134,     0.90019,     0.89935,     0.89862,     0.89729,     0.89711,      0.8958,\n",
              "            0.89555,     0.89458,     0.89283,     0.89142,     0.89117,     0.89107,     0.89112,     0.89038,     0.89011,     0.88992,     0.88962,     0.88852,     0.88722,     0.88678,     0.88628,     0.88535,     0.88423,     0.88375,     0.88292,     0.88161,     0.88102,     0.88074,     0.88055,\n",
              "            0.87963,     0.87893,     0.87867,     0.87765,     0.87658,     0.87622,     0.87566,     0.87594,     0.87567,     0.87492,     0.87466,     0.87375,      0.8729,     0.87203,     0.87069,     0.87019,     0.86972,     0.86876,     0.86785,     0.86626,     0.86377,     0.86346,     0.86094,\n",
              "             0.8588,     0.85775,     0.85638,     0.85622,       0.856,     0.85552,      0.8544,     0.85346,     0.85119,      0.8507,     0.84926,      0.8491,     0.84893,     0.84759,     0.84678,     0.84598,     0.84462,     0.84297,     0.84219,     0.84164,     0.83871,     0.83734,     0.83717,\n",
              "            0.83656,     0.83628,      0.8343,     0.83275,     0.82993,     0.82897,     0.82702,     0.82525,     0.82259,      0.8223,     0.81949,     0.81773,      0.8161,     0.81352,     0.81059,     0.80779,     0.80588,     0.80351,     0.79984,     0.79638,     0.79417,     0.78949,     0.78813,\n",
              "            0.78725,     0.78377,     0.78145,     0.77652,     0.77369,     0.76972,     0.76574,     0.76422,      0.7573,     0.75514,     0.75169,     0.74745,     0.74103,     0.73747,     0.73293,     0.72615,     0.72563,     0.71926,      0.7148,      0.7126,     0.70778,     0.70173,     0.69674,\n",
              "            0.69305,     0.68788,     0.67956,     0.67483,     0.66995,     0.66309,     0.65768,     0.64951,     0.64178,     0.63701,     0.63562,     0.62942,     0.61689,     0.60937,     0.60235,     0.59229,      0.5845,     0.57795,     0.57753,     0.57229,     0.56612,     0.55803,     0.54946,\n",
              "            0.54436,     0.53923,     0.53083,     0.52429,     0.51307,     0.50838,     0.50097,     0.48665,     0.47993,      0.4588,     0.44872,     0.44216,      0.4326,     0.41917,     0.41084,     0.40624,     0.39314,     0.37903,     0.37106,     0.36382,     0.34591,     0.33263,     0.31743,\n",
              "            0.30195,     0.28795,     0.27371,     0.26377,     0.25919,     0.25184,     0.23886,     0.22757,     0.21995,     0.21226,     0.19478,     0.18786,     0.18155,     0.17685,      0.1607,     0.15249,     0.14213,     0.12325,     0.11363,     0.10159,     0.10048,    0.089674,    0.085228,\n",
              "           0.076329,    0.071821,    0.061669,    0.057092,     0.05363,    0.051297,    0.043228,    0.039717,    0.033876,    0.031494,     0.02525,    0.020854,    0.016472,    0.015664,    0.010393,   0.0094044,   0.0089167,   0.0084287,   0.0080118,   0.0076049,   0.0071977,   0.0060167,   0.0053888,\n",
              "          0.0035674,   0.0023693,   0.0017553,           0,           0,           0,           0,           0,           0,           0,           0,           0,           0,           0,           0,           0,           0,           0,           0,           0,           0,           0,           0,\n",
              "                  0,           0,           0,           0,           0,           0,           0,           0,           0,           0,           0,           0,           0,           0,           0,           0,           0,           0,           0,           0,           0,           0,           0,\n",
              "                  0,           0,           0,           0,           0,           0,           0,           0,           0,           0,           0,           0,           0,           0,           0,           0,           0,           0,           0,           0,           0,           0,           0,\n",
              "                  0,           0,           0,           0,           0,           0,           0,           0,           0,           0,           0]]), 'Confidence', 'F1'], [array([          0,    0.001001,    0.002002,    0.003003,    0.004004,    0.005005,    0.006006,    0.007007,    0.008008,    0.009009,     0.01001,    0.011011,    0.012012,    0.013013,    0.014014,    0.015015,    0.016016,    0.017017,    0.018018,    0.019019,     0.02002,    0.021021,    0.022022,    0.023023,\n",
              "          0.024024,    0.025025,    0.026026,    0.027027,    0.028028,    0.029029,     0.03003,    0.031031,    0.032032,    0.033033,    0.034034,    0.035035,    0.036036,    0.037037,    0.038038,    0.039039,     0.04004,    0.041041,    0.042042,    0.043043,    0.044044,    0.045045,    0.046046,    0.047047,\n",
              "          0.048048,    0.049049,     0.05005,    0.051051,    0.052052,    0.053053,    0.054054,    0.055055,    0.056056,    0.057057,    0.058058,    0.059059,     0.06006,    0.061061,    0.062062,    0.063063,    0.064064,    0.065065,    0.066066,    0.067067,    0.068068,    0.069069,     0.07007,    0.071071,\n",
              "          0.072072,    0.073073,    0.074074,    0.075075,    0.076076,    0.077077,    0.078078,    0.079079,     0.08008,    0.081081,    0.082082,    0.083083,    0.084084,    0.085085,    0.086086,    0.087087,    0.088088,    0.089089,     0.09009,    0.091091,    0.092092,    0.093093,    0.094094,    0.095095,\n",
              "          0.096096,    0.097097,    0.098098,    0.099099,      0.1001,      0.1011,      0.1021,      0.1031,      0.1041,     0.10511,     0.10611,     0.10711,     0.10811,     0.10911,     0.11011,     0.11111,     0.11211,     0.11311,     0.11411,     0.11512,     0.11612,     0.11712,     0.11812,     0.11912,\n",
              "           0.12012,     0.12112,     0.12212,     0.12312,     0.12412,     0.12513,     0.12613,     0.12713,     0.12813,     0.12913,     0.13013,     0.13113,     0.13213,     0.13313,     0.13413,     0.13514,     0.13614,     0.13714,     0.13814,     0.13914,     0.14014,     0.14114,     0.14214,     0.14314,\n",
              "           0.14414,     0.14515,     0.14615,     0.14715,     0.14815,     0.14915,     0.15015,     0.15115,     0.15215,     0.15315,     0.15415,     0.15516,     0.15616,     0.15716,     0.15816,     0.15916,     0.16016,     0.16116,     0.16216,     0.16316,     0.16416,     0.16517,     0.16617,     0.16717,\n",
              "           0.16817,     0.16917,     0.17017,     0.17117,     0.17217,     0.17317,     0.17417,     0.17518,     0.17618,     0.17718,     0.17818,     0.17918,     0.18018,     0.18118,     0.18218,     0.18318,     0.18418,     0.18519,     0.18619,     0.18719,     0.18819,     0.18919,     0.19019,     0.19119,\n",
              "           0.19219,     0.19319,     0.19419,      0.1952,      0.1962,      0.1972,      0.1982,      0.1992,      0.2002,      0.2012,      0.2022,      0.2032,      0.2042,     0.20521,     0.20621,     0.20721,     0.20821,     0.20921,     0.21021,     0.21121,     0.21221,     0.21321,     0.21421,     0.21522,\n",
              "           0.21622,     0.21722,     0.21822,     0.21922,     0.22022,     0.22122,     0.22222,     0.22322,     0.22422,     0.22523,     0.22623,     0.22723,     0.22823,     0.22923,     0.23023,     0.23123,     0.23223,     0.23323,     0.23423,     0.23524,     0.23624,     0.23724,     0.23824,     0.23924,\n",
              "           0.24024,     0.24124,     0.24224,     0.24324,     0.24424,     0.24525,     0.24625,     0.24725,     0.24825,     0.24925,     0.25025,     0.25125,     0.25225,     0.25325,     0.25425,     0.25526,     0.25626,     0.25726,     0.25826,     0.25926,     0.26026,     0.26126,     0.26226,     0.26326,\n",
              "           0.26426,     0.26527,     0.26627,     0.26727,     0.26827,     0.26927,     0.27027,     0.27127,     0.27227,     0.27327,     0.27427,     0.27528,     0.27628,     0.27728,     0.27828,     0.27928,     0.28028,     0.28128,     0.28228,     0.28328,     0.28428,     0.28529,     0.28629,     0.28729,\n",
              "           0.28829,     0.28929,     0.29029,     0.29129,     0.29229,     0.29329,     0.29429,      0.2953,      0.2963,      0.2973,      0.2983,      0.2993,      0.3003,      0.3013,      0.3023,      0.3033,      0.3043,     0.30531,     0.30631,     0.30731,     0.30831,     0.30931,     0.31031,     0.31131,\n",
              "           0.31231,     0.31331,     0.31431,     0.31532,     0.31632,     0.31732,     0.31832,     0.31932,     0.32032,     0.32132,     0.32232,     0.32332,     0.32432,     0.32533,     0.32633,     0.32733,     0.32833,     0.32933,     0.33033,     0.33133,     0.33233,     0.33333,     0.33433,     0.33534,\n",
              "           0.33634,     0.33734,     0.33834,     0.33934,     0.34034,     0.34134,     0.34234,     0.34334,     0.34434,     0.34535,     0.34635,     0.34735,     0.34835,     0.34935,     0.35035,     0.35135,     0.35235,     0.35335,     0.35435,     0.35536,     0.35636,     0.35736,     0.35836,     0.35936,\n",
              "           0.36036,     0.36136,     0.36236,     0.36336,     0.36436,     0.36537,     0.36637,     0.36737,     0.36837,     0.36937,     0.37037,     0.37137,     0.37237,     0.37337,     0.37437,     0.37538,     0.37638,     0.37738,     0.37838,     0.37938,     0.38038,     0.38138,     0.38238,     0.38338,\n",
              "           0.38438,     0.38539,     0.38639,     0.38739,     0.38839,     0.38939,     0.39039,     0.39139,     0.39239,     0.39339,     0.39439,      0.3954,      0.3964,      0.3974,      0.3984,      0.3994,      0.4004,      0.4014,      0.4024,      0.4034,      0.4044,     0.40541,     0.40641,     0.40741,\n",
              "           0.40841,     0.40941,     0.41041,     0.41141,     0.41241,     0.41341,     0.41441,     0.41542,     0.41642,     0.41742,     0.41842,     0.41942,     0.42042,     0.42142,     0.42242,     0.42342,     0.42442,     0.42543,     0.42643,     0.42743,     0.42843,     0.42943,     0.43043,     0.43143,\n",
              "           0.43243,     0.43343,     0.43443,     0.43544,     0.43644,     0.43744,     0.43844,     0.43944,     0.44044,     0.44144,     0.44244,     0.44344,     0.44444,     0.44545,     0.44645,     0.44745,     0.44845,     0.44945,     0.45045,     0.45145,     0.45245,     0.45345,     0.45445,     0.45546,\n",
              "           0.45646,     0.45746,     0.45846,     0.45946,     0.46046,     0.46146,     0.46246,     0.46346,     0.46446,     0.46547,     0.46647,     0.46747,     0.46847,     0.46947,     0.47047,     0.47147,     0.47247,     0.47347,     0.47447,     0.47548,     0.47648,     0.47748,     0.47848,     0.47948,\n",
              "           0.48048,     0.48148,     0.48248,     0.48348,     0.48448,     0.48549,     0.48649,     0.48749,     0.48849,     0.48949,     0.49049,     0.49149,     0.49249,     0.49349,     0.49449,      0.4955,      0.4965,      0.4975,      0.4985,      0.4995,      0.5005,      0.5015,      0.5025,      0.5035,\n",
              "            0.5045,     0.50551,     0.50651,     0.50751,     0.50851,     0.50951,     0.51051,     0.51151,     0.51251,     0.51351,     0.51451,     0.51552,     0.51652,     0.51752,     0.51852,     0.51952,     0.52052,     0.52152,     0.52252,     0.52352,     0.52452,     0.52553,     0.52653,     0.52753,\n",
              "           0.52853,     0.52953,     0.53053,     0.53153,     0.53253,     0.53353,     0.53453,     0.53554,     0.53654,     0.53754,     0.53854,     0.53954,     0.54054,     0.54154,     0.54254,     0.54354,     0.54454,     0.54555,     0.54655,     0.54755,     0.54855,     0.54955,     0.55055,     0.55155,\n",
              "           0.55255,     0.55355,     0.55455,     0.55556,     0.55656,     0.55756,     0.55856,     0.55956,     0.56056,     0.56156,     0.56256,     0.56356,     0.56456,     0.56557,     0.56657,     0.56757,     0.56857,     0.56957,     0.57057,     0.57157,     0.57257,     0.57357,     0.57457,     0.57558,\n",
              "           0.57658,     0.57758,     0.57858,     0.57958,     0.58058,     0.58158,     0.58258,     0.58358,     0.58458,     0.58559,     0.58659,     0.58759,     0.58859,     0.58959,     0.59059,     0.59159,     0.59259,     0.59359,     0.59459,      0.5956,      0.5966,      0.5976,      0.5986,      0.5996,\n",
              "            0.6006,      0.6016,      0.6026,      0.6036,      0.6046,     0.60561,     0.60661,     0.60761,     0.60861,     0.60961,     0.61061,     0.61161,     0.61261,     0.61361,     0.61461,     0.61562,     0.61662,     0.61762,     0.61862,     0.61962,     0.62062,     0.62162,     0.62262,     0.62362,\n",
              "           0.62462,     0.62563,     0.62663,     0.62763,     0.62863,     0.62963,     0.63063,     0.63163,     0.63263,     0.63363,     0.63463,     0.63564,     0.63664,     0.63764,     0.63864,     0.63964,     0.64064,     0.64164,     0.64264,     0.64364,     0.64464,     0.64565,     0.64665,     0.64765,\n",
              "           0.64865,     0.64965,     0.65065,     0.65165,     0.65265,     0.65365,     0.65465,     0.65566,     0.65666,     0.65766,     0.65866,     0.65966,     0.66066,     0.66166,     0.66266,     0.66366,     0.66466,     0.66567,     0.66667,     0.66767,     0.66867,     0.66967,     0.67067,     0.67167,\n",
              "           0.67267,     0.67367,     0.67467,     0.67568,     0.67668,     0.67768,     0.67868,     0.67968,     0.68068,     0.68168,     0.68268,     0.68368,     0.68468,     0.68569,     0.68669,     0.68769,     0.68869,     0.68969,     0.69069,     0.69169,     0.69269,     0.69369,     0.69469,      0.6957,\n",
              "            0.6967,      0.6977,      0.6987,      0.6997,      0.7007,      0.7017,      0.7027,      0.7037,      0.7047,     0.70571,     0.70671,     0.70771,     0.70871,     0.70971,     0.71071,     0.71171,     0.71271,     0.71371,     0.71471,     0.71572,     0.71672,     0.71772,     0.71872,     0.71972,\n",
              "           0.72072,     0.72172,     0.72272,     0.72372,     0.72472,     0.72573,     0.72673,     0.72773,     0.72873,     0.72973,     0.73073,     0.73173,     0.73273,     0.73373,     0.73473,     0.73574,     0.73674,     0.73774,     0.73874,     0.73974,     0.74074,     0.74174,     0.74274,     0.74374,\n",
              "           0.74474,     0.74575,     0.74675,     0.74775,     0.74875,     0.74975,     0.75075,     0.75175,     0.75275,     0.75375,     0.75475,     0.75576,     0.75676,     0.75776,     0.75876,     0.75976,     0.76076,     0.76176,     0.76276,     0.76376,     0.76476,     0.76577,     0.76677,     0.76777,\n",
              "           0.76877,     0.76977,     0.77077,     0.77177,     0.77277,     0.77377,     0.77477,     0.77578,     0.77678,     0.77778,     0.77878,     0.77978,     0.78078,     0.78178,     0.78278,     0.78378,     0.78478,     0.78579,     0.78679,     0.78779,     0.78879,     0.78979,     0.79079,     0.79179,\n",
              "           0.79279,     0.79379,     0.79479,      0.7958,      0.7968,      0.7978,      0.7988,      0.7998,      0.8008,      0.8018,      0.8028,      0.8038,      0.8048,     0.80581,     0.80681,     0.80781,     0.80881,     0.80981,     0.81081,     0.81181,     0.81281,     0.81381,     0.81481,     0.81582,\n",
              "           0.81682,     0.81782,     0.81882,     0.81982,     0.82082,     0.82182,     0.82282,     0.82382,     0.82482,     0.82583,     0.82683,     0.82783,     0.82883,     0.82983,     0.83083,     0.83183,     0.83283,     0.83383,     0.83483,     0.83584,     0.83684,     0.83784,     0.83884,     0.83984,\n",
              "           0.84084,     0.84184,     0.84284,     0.84384,     0.84484,     0.84585,     0.84685,     0.84785,     0.84885,     0.84985,     0.85085,     0.85185,     0.85285,     0.85385,     0.85485,     0.85586,     0.85686,     0.85786,     0.85886,     0.85986,     0.86086,     0.86186,     0.86286,     0.86386,\n",
              "           0.86486,     0.86587,     0.86687,     0.86787,     0.86887,     0.86987,     0.87087,     0.87187,     0.87287,     0.87387,     0.87487,     0.87588,     0.87688,     0.87788,     0.87888,     0.87988,     0.88088,     0.88188,     0.88288,     0.88388,     0.88488,     0.88589,     0.88689,     0.88789,\n",
              "           0.88889,     0.88989,     0.89089,     0.89189,     0.89289,     0.89389,     0.89489,      0.8959,      0.8969,      0.8979,      0.8989,      0.8999,      0.9009,      0.9019,      0.9029,      0.9039,      0.9049,     0.90591,     0.90691,     0.90791,     0.90891,     0.90991,     0.91091,     0.91191,\n",
              "           0.91291,     0.91391,     0.91491,     0.91592,     0.91692,     0.91792,     0.91892,     0.91992,     0.92092,     0.92192,     0.92292,     0.92392,     0.92492,     0.92593,     0.92693,     0.92793,     0.92893,     0.92993,     0.93093,     0.93193,     0.93293,     0.93393,     0.93493,     0.93594,\n",
              "           0.93694,     0.93794,     0.93894,     0.93994,     0.94094,     0.94194,     0.94294,     0.94394,     0.94494,     0.94595,     0.94695,     0.94795,     0.94895,     0.94995,     0.95095,     0.95195,     0.95295,     0.95395,     0.95495,     0.95596,     0.95696,     0.95796,     0.95896,     0.95996,\n",
              "           0.96096,     0.96196,     0.96296,     0.96396,     0.96496,     0.96597,     0.96697,     0.96797,     0.96897,     0.96997,     0.97097,     0.97197,     0.97297,     0.97397,     0.97497,     0.97598,     0.97698,     0.97798,     0.97898,     0.97998,     0.98098,     0.98198,     0.98298,     0.98398,\n",
              "           0.98498,     0.98599,     0.98699,     0.98799,     0.98899,     0.98999,     0.99099,     0.99199,     0.99299,     0.99399,     0.99499,       0.996,       0.997,       0.998,       0.999,           1]), array([[    0.23274,     0.23274,     0.30979,      0.3582,     0.39444,     0.42554,     0.44953,     0.47055,     0.48703,     0.50011,     0.51324,      0.5271,     0.53673,      0.5456,     0.55592,     0.56502,       0.575,     0.58387,     0.59096,     0.59665,     0.60492,     0.61008,     0.61676,\n",
              "            0.62116,     0.62709,     0.63259,     0.63725,     0.64364,      0.6463,     0.65158,     0.65581,     0.66004,     0.66593,     0.66811,     0.67295,     0.67631,     0.68027,     0.68359,     0.68656,     0.69206,     0.69437,     0.69798,      0.7017,     0.70439,     0.70748,     0.70918,\n",
              "            0.71074,     0.71335,     0.71539,     0.71711,     0.71852,     0.72037,     0.72127,      0.7223,     0.72427,     0.72643,     0.72844,     0.73138,     0.73543,     0.73714,     0.73815,     0.73967,     0.74133,      0.7423,     0.74531,      0.7467,     0.74833,     0.74987,     0.75136,\n",
              "            0.75392,       0.756,     0.75888,     0.76034,     0.76076,     0.76078,     0.76182,     0.76309,     0.76436,     0.76541,     0.76754,     0.76904,     0.76985,     0.77189,     0.77348,     0.77409,     0.77526,     0.77624,     0.77774,     0.77964,     0.78052,     0.78192,     0.78295,\n",
              "            0.78343,     0.78483,     0.78703,     0.78741,     0.78945,     0.79039,     0.79131,     0.79202,      0.7929,     0.79539,     0.79621,     0.79671,     0.79798,     0.79831,     0.79914,     0.79941,     0.80018,     0.80168,     0.80256,     0.80298,     0.80478,     0.80611,     0.80764,\n",
              "            0.80826,     0.80856,      0.8089,     0.80911,     0.80931,      0.8098,     0.81075,     0.81124,     0.81282,     0.81462,     0.81711,     0.81863,     0.81979,     0.82135,     0.82248,     0.82279,     0.82396,     0.82539,     0.82571,     0.82583,     0.82613,     0.82665,     0.82817,\n",
              "            0.82934,     0.83049,     0.83126,     0.83147,     0.83196,     0.83327,     0.83341,     0.83355,     0.83371,     0.83461,     0.83683,     0.83773,     0.83836,      0.8391,     0.83932,     0.83992,     0.84128,     0.84245,     0.84326,     0.84345,     0.84364,     0.84458,       0.845,\n",
              "            0.84665,     0.84713,     0.84753,     0.84818,     0.84869,     0.84886,     0.84902,     0.84982,     0.85031,     0.85026,     0.85161,     0.85156,     0.85172,      0.8525,     0.85263,     0.85277,      0.8529,      0.8533,      0.8536,     0.85436,     0.85459,     0.85534,     0.85613,\n",
              "            0.85728,     0.85818,      0.8589,     0.85933,     0.85959,     0.86019,     0.86062,       0.861,     0.86203,     0.86223,     0.86242,     0.86278,     0.86303,     0.86322,     0.86338,     0.86368,      0.8653,      0.8657,     0.86613,     0.86608,     0.86604,     0.86599,     0.86594,\n",
              "            0.86629,     0.86704,     0.86764,      0.8684,     0.86911,     0.87004,     0.87019,     0.87128,     0.87155,     0.87149,     0.87222,     0.87291,     0.87289,     0.87286,     0.87341,     0.87435,      0.8746,     0.87533,     0.87557,     0.87678,     0.87768,     0.87814,     0.87816,\n",
              "             0.8784,     0.87879,     0.88027,     0.88057,     0.88075,     0.88093,       0.881,     0.88114,     0.88161,     0.88184,     0.88264,      0.8831,     0.88315,     0.88384,     0.88502,     0.88574,     0.88587,     0.88601,     0.88619,     0.88657,     0.88813,     0.88848,     0.88984,\n",
              "            0.89015,     0.89059,     0.89056,     0.89064,     0.89101,     0.89173,     0.89216,      0.8925,     0.89247,       0.893,     0.89344,     0.89434,     0.89504,     0.89626,     0.89647,     0.89654,       0.897,     0.89724,     0.89749,     0.89807,     0.89838,     0.89892,     0.90008,\n",
              "            0.90024,     0.90041,     0.90057,     0.90071,     0.90084,     0.90097,     0.90114,     0.90276,     0.90307,     0.90341,     0.90382,     0.90437,     0.90467,     0.90633,     0.90687,     0.90711,     0.90735,     0.90784,     0.90823,     0.90866,     0.90951,      0.9095,     0.90948,\n",
              "            0.90947,     0.90944,     0.90939,     0.90936,     0.90933,     0.90929,     0.90926,     0.90945,     0.90976,     0.91091,     0.91133,      0.9113,     0.91147,     0.91185,     0.91241,       0.913,     0.91331,     0.91378,     0.91392,     0.91421,     0.91453,     0.91484,     0.91528,\n",
              "            0.91625,     0.91657,     0.91671,     0.91681,     0.91692,     0.91702,     0.91713,     0.91769,     0.91779,     0.91788,     0.91797,     0.91806,     0.91815,     0.91824,      0.9182,     0.91884,     0.91983,     0.91983,     0.91982,     0.91981,     0.91981,      0.9198,     0.91979,\n",
              "            0.91983,     0.92015,     0.92031,     0.92067,     0.92178,     0.92248,     0.92269,     0.92289,     0.92298,     0.92295,     0.92322,     0.92348,     0.92346,     0.92345,     0.92364,     0.92385,     0.92415,     0.92472,     0.92508,      0.9254,      0.9257,     0.92583,     0.92597,\n",
              "             0.9261,     0.92613,     0.92669,     0.92688,     0.92707,     0.92718,     0.92749,     0.92851,     0.92885,     0.92896,     0.92908,     0.92919,     0.92931,     0.93059,     0.93088,     0.93126,      0.9318,     0.93214,     0.93267,     0.93265,     0.93341,      0.9337,     0.93366,\n",
              "            0.93385,     0.93405,     0.93482,     0.93516,     0.93559,     0.93617,     0.93656,     0.93668,     0.93681,     0.93693,     0.93705,     0.93858,     0.93928,     0.93962,     0.93992,     0.94014,     0.94036,     0.94053,     0.94052,     0.94051,      0.9405,      0.9405,     0.94106,\n",
              "            0.94111,     0.94132,     0.94154,     0.94171,      0.9419,      0.9421,      0.9426,     0.94319,     0.94379,     0.94389,     0.94387,     0.94394,     0.94444,     0.94442,     0.94437,     0.94437,     0.94436,     0.94435,     0.94443,     0.94473,     0.94559,     0.94581,     0.94602,\n",
              "            0.94688,     0.94719,     0.94785,     0.94783,     0.94829,     0.94865,     0.94896,     0.94956,     0.94955,     0.94954,     0.94953,     0.94982,     0.95012,      0.9502,     0.95028,     0.95036,     0.95044,     0.95052,     0.95059,     0.95067,     0.95134,     0.95142,      0.9515,\n",
              "            0.95157,     0.95165,     0.95172,      0.9518,     0.95188,      0.9519,     0.95189,     0.95188,      0.9523,     0.95318,     0.95339,     0.95359,     0.95361,     0.95418,     0.95469,     0.95535,      0.9565,     0.95661,     0.95673,     0.95685,     0.95698,     0.95769,       0.958,\n",
              "            0.95829,     0.95845,      0.9586,     0.95876,     0.95897,     0.95951,     0.95982,     0.96004,     0.96002,     0.96001,     0.96018,      0.9607,     0.96101,      0.9618,     0.96187,     0.96208,     0.96229,     0.96239,     0.96238,     0.96255,     0.96286,     0.96334,     0.96357,\n",
              "            0.96356,      0.9637,     0.96391,     0.96412,     0.96464,     0.96528,     0.96553,     0.96569,     0.96585,     0.96601,     0.96599,     0.96598,      0.9669,     0.96722,      0.9672,     0.96718,     0.96717,     0.96717,     0.96723,     0.96776,     0.96775,     0.96774,     0.96839,\n",
              "             0.9686,     0.96882,     0.96903,     0.96925,     0.96946,      0.9696,     0.96959,     0.96984,     0.97019,     0.97018,     0.97017,      0.9708,     0.97079,     0.97079,     0.97079,     0.97078,     0.97078,     0.97183,     0.97248,     0.97267,     0.97266,     0.97265,     0.97264,\n",
              "            0.97262,     0.97275,     0.97292,     0.97308,     0.97324,     0.97365,     0.97387,     0.97449,     0.97448,     0.97447,     0.97447,     0.97447,     0.97447,     0.97446,     0.97446,     0.97445,     0.97443,     0.97441,      0.9744,     0.97439,     0.97438,     0.97436,     0.97436,\n",
              "            0.97435,     0.97435,     0.97435,     0.97435,     0.97434,     0.97435,     0.97498,     0.97497,     0.97535,     0.97561,     0.97561,      0.9756,      0.9756,      0.9756,      0.9756,      0.9756,     0.97559,     0.97586,     0.97619,     0.97623,     0.97622,     0.97618,     0.97617,\n",
              "            0.97613,     0.97612,     0.97612,     0.97612,     0.97612,     0.97611,     0.97609,     0.97608,     0.97607,     0.97671,     0.97671,     0.97671,      0.9767,      0.9767,      0.9767,     0.97669,     0.97669,     0.97733,     0.97733,     0.97732,     0.97732,      0.9773,      0.9773,\n",
              "            0.97729,     0.97744,     0.97759,     0.97774,     0.97789,     0.97793,     0.97792,      0.9779,     0.97789,     0.97789,     0.97788,     0.97805,     0.97849,     0.97848,     0.97847,     0.97842,     0.97841,     0.97837,     0.97836,     0.97835,       0.979,     0.97899,     0.97899,\n",
              "            0.97896,     0.97895,     0.97892,     0.97888,     0.97887,     0.97902,     0.97952,     0.97952,     0.97951,     0.98018,     0.98017,     0.98017,     0.98016,     0.98016,     0.98015,     0.98015,     0.98014,     0.98014,     0.98012,     0.98012,     0.98012,     0.98011,     0.98011,\n",
              "             0.9801,     0.98009,     0.98008,     0.98005,     0.98001,     0.98067,     0.98064,      0.9813,     0.98129,     0.98129,     0.98172,     0.98226,     0.98262,     0.98261,      0.9826,     0.98258,     0.98257,     0.98257,     0.98323,     0.98322,     0.98389,     0.98388,     0.98387,\n",
              "            0.98386,     0.98386,     0.98386,     0.98385,     0.98385,     0.98385,     0.98385,     0.98384,     0.98383,     0.98381,     0.98447,     0.98445,     0.98443,     0.98442,      0.9844,      0.9844,     0.98436,     0.98433,      0.9843,     0.98428,     0.98493,     0.98513,     0.98559,\n",
              "            0.98558,     0.98555,      0.9855,     0.98546,     0.98545,     0.98614,     0.98759,     0.98757,     0.98756,     0.98756,     0.98755,     0.98752,     0.98749,     0.98748,     0.98747,     0.98744,     0.98741,      0.9874,     0.98738,     0.98735,     0.98806,     0.98806,     0.98805,\n",
              "            0.98803,     0.98801,     0.98801,     0.98872,     0.98869,     0.98943,     0.98941,     0.99091,      0.9909,     0.99089,     0.99088,     0.99087,     0.99085,     0.99083,     0.99081,      0.9908,     0.99079,     0.99077,     0.99076,     0.99073,     0.99132,     0.99144,      0.9914,\n",
              "            0.99136,     0.99134,     0.99132,     0.99131,     0.99131,      0.9913,     0.99128,     0.99127,     0.99201,       0.992,     0.99198,     0.99198,     0.99197,     0.99195,     0.99194,     0.99193,      0.9919,     0.99188,     0.99186,     0.99266,     0.99343,     0.99341,     0.99341,\n",
              "            0.99421,     0.99421,     0.99419,     0.99417,     0.99414,     0.99412,      0.9941,     0.99408,     0.99405,     0.99404,     0.99401,     0.99399,     0.99397,     0.99393,      0.9939,     0.99386,     0.99384,     0.99381,     0.99376,     0.99372,     0.99369,      0.9938,     0.99451,\n",
              "            0.99541,     0.99538,     0.99536,     0.99531,     0.99528,     0.99524,      0.9952,     0.99518,     0.99511,     0.99509,     0.99506,     0.99501,     0.99494,      0.9949,     0.99588,     0.99582,     0.99581,     0.99575,     0.99571,     0.99569,     0.99565,     0.99559,     0.99554,\n",
              "             0.9955,     0.99545,     0.99537,     0.99765,     0.99763,     0.99759,     0.99756,     0.99751,     0.99747,     0.99744,     0.99743,      0.9974,     0.99732,     0.99727,     0.99723,     0.99716,      0.9971,     0.99706,     0.99706,     0.99702,     0.99697,     0.99691,     0.99842,\n",
              "             0.9984,     0.99838,     0.99834,     0.99831,     0.99826,     0.99824,     0.99821,     0.99814,           1,           1,           1,           1,           1,           1,           1,           1,           1,           1,           1,           1,           1,           1,           1,\n",
              "                  1,           1,           1,           1,           1,           1,           1,           1,           1,           1,           1,           1,           1,           1,           1,           1,           1,           1,           1,           1,           1,           1,           1,\n",
              "                  1,           1,           1,           1,           1,           1,           1,           1,           1,           1,           1,           1,           1,           1,           1,           1,           1,           1,           1,           1,           1,           1,           1,\n",
              "                  1,           1,           1,           1,           1,           1,           1,           1,           1,           1,           1,           1,           1,           1,           1,           1,           1,           1,           1,           1,           1,           1,           1,\n",
              "                  1,           1,           1,           1,           1,           1,           1,           1,           1,           1,           1,           1,           1,           1,           1,           1,           1,           1,           1,           1,           1,           1,           1,\n",
              "                  1,           1,           1,           1,           1,           1,           1,           1,           1,           1,           1,           1,           1,           1,           1,           1,           1,           1,           1,           1,           1,           1,           1,\n",
              "                  1,           1,           1,           1,           1,           1,           1,           1,           1,           1,           1]]), 'Confidence', 'Precision'], [array([          0,    0.001001,    0.002002,    0.003003,    0.004004,    0.005005,    0.006006,    0.007007,    0.008008,    0.009009,     0.01001,    0.011011,    0.012012,    0.013013,    0.014014,    0.015015,    0.016016,    0.017017,    0.018018,    0.019019,     0.02002,    0.021021,    0.022022,    0.023023,\n",
              "          0.024024,    0.025025,    0.026026,    0.027027,    0.028028,    0.029029,     0.03003,    0.031031,    0.032032,    0.033033,    0.034034,    0.035035,    0.036036,    0.037037,    0.038038,    0.039039,     0.04004,    0.041041,    0.042042,    0.043043,    0.044044,    0.045045,    0.046046,    0.047047,\n",
              "          0.048048,    0.049049,     0.05005,    0.051051,    0.052052,    0.053053,    0.054054,    0.055055,    0.056056,    0.057057,    0.058058,    0.059059,     0.06006,    0.061061,    0.062062,    0.063063,    0.064064,    0.065065,    0.066066,    0.067067,    0.068068,    0.069069,     0.07007,    0.071071,\n",
              "          0.072072,    0.073073,    0.074074,    0.075075,    0.076076,    0.077077,    0.078078,    0.079079,     0.08008,    0.081081,    0.082082,    0.083083,    0.084084,    0.085085,    0.086086,    0.087087,    0.088088,    0.089089,     0.09009,    0.091091,    0.092092,    0.093093,    0.094094,    0.095095,\n",
              "          0.096096,    0.097097,    0.098098,    0.099099,      0.1001,      0.1011,      0.1021,      0.1031,      0.1041,     0.10511,     0.10611,     0.10711,     0.10811,     0.10911,     0.11011,     0.11111,     0.11211,     0.11311,     0.11411,     0.11512,     0.11612,     0.11712,     0.11812,     0.11912,\n",
              "           0.12012,     0.12112,     0.12212,     0.12312,     0.12412,     0.12513,     0.12613,     0.12713,     0.12813,     0.12913,     0.13013,     0.13113,     0.13213,     0.13313,     0.13413,     0.13514,     0.13614,     0.13714,     0.13814,     0.13914,     0.14014,     0.14114,     0.14214,     0.14314,\n",
              "           0.14414,     0.14515,     0.14615,     0.14715,     0.14815,     0.14915,     0.15015,     0.15115,     0.15215,     0.15315,     0.15415,     0.15516,     0.15616,     0.15716,     0.15816,     0.15916,     0.16016,     0.16116,     0.16216,     0.16316,     0.16416,     0.16517,     0.16617,     0.16717,\n",
              "           0.16817,     0.16917,     0.17017,     0.17117,     0.17217,     0.17317,     0.17417,     0.17518,     0.17618,     0.17718,     0.17818,     0.17918,     0.18018,     0.18118,     0.18218,     0.18318,     0.18418,     0.18519,     0.18619,     0.18719,     0.18819,     0.18919,     0.19019,     0.19119,\n",
              "           0.19219,     0.19319,     0.19419,      0.1952,      0.1962,      0.1972,      0.1982,      0.1992,      0.2002,      0.2012,      0.2022,      0.2032,      0.2042,     0.20521,     0.20621,     0.20721,     0.20821,     0.20921,     0.21021,     0.21121,     0.21221,     0.21321,     0.21421,     0.21522,\n",
              "           0.21622,     0.21722,     0.21822,     0.21922,     0.22022,     0.22122,     0.22222,     0.22322,     0.22422,     0.22523,     0.22623,     0.22723,     0.22823,     0.22923,     0.23023,     0.23123,     0.23223,     0.23323,     0.23423,     0.23524,     0.23624,     0.23724,     0.23824,     0.23924,\n",
              "           0.24024,     0.24124,     0.24224,     0.24324,     0.24424,     0.24525,     0.24625,     0.24725,     0.24825,     0.24925,     0.25025,     0.25125,     0.25225,     0.25325,     0.25425,     0.25526,     0.25626,     0.25726,     0.25826,     0.25926,     0.26026,     0.26126,     0.26226,     0.26326,\n",
              "           0.26426,     0.26527,     0.26627,     0.26727,     0.26827,     0.26927,     0.27027,     0.27127,     0.27227,     0.27327,     0.27427,     0.27528,     0.27628,     0.27728,     0.27828,     0.27928,     0.28028,     0.28128,     0.28228,     0.28328,     0.28428,     0.28529,     0.28629,     0.28729,\n",
              "           0.28829,     0.28929,     0.29029,     0.29129,     0.29229,     0.29329,     0.29429,      0.2953,      0.2963,      0.2973,      0.2983,      0.2993,      0.3003,      0.3013,      0.3023,      0.3033,      0.3043,     0.30531,     0.30631,     0.30731,     0.30831,     0.30931,     0.31031,     0.31131,\n",
              "           0.31231,     0.31331,     0.31431,     0.31532,     0.31632,     0.31732,     0.31832,     0.31932,     0.32032,     0.32132,     0.32232,     0.32332,     0.32432,     0.32533,     0.32633,     0.32733,     0.32833,     0.32933,     0.33033,     0.33133,     0.33233,     0.33333,     0.33433,     0.33534,\n",
              "           0.33634,     0.33734,     0.33834,     0.33934,     0.34034,     0.34134,     0.34234,     0.34334,     0.34434,     0.34535,     0.34635,     0.34735,     0.34835,     0.34935,     0.35035,     0.35135,     0.35235,     0.35335,     0.35435,     0.35536,     0.35636,     0.35736,     0.35836,     0.35936,\n",
              "           0.36036,     0.36136,     0.36236,     0.36336,     0.36436,     0.36537,     0.36637,     0.36737,     0.36837,     0.36937,     0.37037,     0.37137,     0.37237,     0.37337,     0.37437,     0.37538,     0.37638,     0.37738,     0.37838,     0.37938,     0.38038,     0.38138,     0.38238,     0.38338,\n",
              "           0.38438,     0.38539,     0.38639,     0.38739,     0.38839,     0.38939,     0.39039,     0.39139,     0.39239,     0.39339,     0.39439,      0.3954,      0.3964,      0.3974,      0.3984,      0.3994,      0.4004,      0.4014,      0.4024,      0.4034,      0.4044,     0.40541,     0.40641,     0.40741,\n",
              "           0.40841,     0.40941,     0.41041,     0.41141,     0.41241,     0.41341,     0.41441,     0.41542,     0.41642,     0.41742,     0.41842,     0.41942,     0.42042,     0.42142,     0.42242,     0.42342,     0.42442,     0.42543,     0.42643,     0.42743,     0.42843,     0.42943,     0.43043,     0.43143,\n",
              "           0.43243,     0.43343,     0.43443,     0.43544,     0.43644,     0.43744,     0.43844,     0.43944,     0.44044,     0.44144,     0.44244,     0.44344,     0.44444,     0.44545,     0.44645,     0.44745,     0.44845,     0.44945,     0.45045,     0.45145,     0.45245,     0.45345,     0.45445,     0.45546,\n",
              "           0.45646,     0.45746,     0.45846,     0.45946,     0.46046,     0.46146,     0.46246,     0.46346,     0.46446,     0.46547,     0.46647,     0.46747,     0.46847,     0.46947,     0.47047,     0.47147,     0.47247,     0.47347,     0.47447,     0.47548,     0.47648,     0.47748,     0.47848,     0.47948,\n",
              "           0.48048,     0.48148,     0.48248,     0.48348,     0.48448,     0.48549,     0.48649,     0.48749,     0.48849,     0.48949,     0.49049,     0.49149,     0.49249,     0.49349,     0.49449,      0.4955,      0.4965,      0.4975,      0.4985,      0.4995,      0.5005,      0.5015,      0.5025,      0.5035,\n",
              "            0.5045,     0.50551,     0.50651,     0.50751,     0.50851,     0.50951,     0.51051,     0.51151,     0.51251,     0.51351,     0.51451,     0.51552,     0.51652,     0.51752,     0.51852,     0.51952,     0.52052,     0.52152,     0.52252,     0.52352,     0.52452,     0.52553,     0.52653,     0.52753,\n",
              "           0.52853,     0.52953,     0.53053,     0.53153,     0.53253,     0.53353,     0.53453,     0.53554,     0.53654,     0.53754,     0.53854,     0.53954,     0.54054,     0.54154,     0.54254,     0.54354,     0.54454,     0.54555,     0.54655,     0.54755,     0.54855,     0.54955,     0.55055,     0.55155,\n",
              "           0.55255,     0.55355,     0.55455,     0.55556,     0.55656,     0.55756,     0.55856,     0.55956,     0.56056,     0.56156,     0.56256,     0.56356,     0.56456,     0.56557,     0.56657,     0.56757,     0.56857,     0.56957,     0.57057,     0.57157,     0.57257,     0.57357,     0.57457,     0.57558,\n",
              "           0.57658,     0.57758,     0.57858,     0.57958,     0.58058,     0.58158,     0.58258,     0.58358,     0.58458,     0.58559,     0.58659,     0.58759,     0.58859,     0.58959,     0.59059,     0.59159,     0.59259,     0.59359,     0.59459,      0.5956,      0.5966,      0.5976,      0.5986,      0.5996,\n",
              "            0.6006,      0.6016,      0.6026,      0.6036,      0.6046,     0.60561,     0.60661,     0.60761,     0.60861,     0.60961,     0.61061,     0.61161,     0.61261,     0.61361,     0.61461,     0.61562,     0.61662,     0.61762,     0.61862,     0.61962,     0.62062,     0.62162,     0.62262,     0.62362,\n",
              "           0.62462,     0.62563,     0.62663,     0.62763,     0.62863,     0.62963,     0.63063,     0.63163,     0.63263,     0.63363,     0.63463,     0.63564,     0.63664,     0.63764,     0.63864,     0.63964,     0.64064,     0.64164,     0.64264,     0.64364,     0.64464,     0.64565,     0.64665,     0.64765,\n",
              "           0.64865,     0.64965,     0.65065,     0.65165,     0.65265,     0.65365,     0.65465,     0.65566,     0.65666,     0.65766,     0.65866,     0.65966,     0.66066,     0.66166,     0.66266,     0.66366,     0.66466,     0.66567,     0.66667,     0.66767,     0.66867,     0.66967,     0.67067,     0.67167,\n",
              "           0.67267,     0.67367,     0.67467,     0.67568,     0.67668,     0.67768,     0.67868,     0.67968,     0.68068,     0.68168,     0.68268,     0.68368,     0.68468,     0.68569,     0.68669,     0.68769,     0.68869,     0.68969,     0.69069,     0.69169,     0.69269,     0.69369,     0.69469,      0.6957,\n",
              "            0.6967,      0.6977,      0.6987,      0.6997,      0.7007,      0.7017,      0.7027,      0.7037,      0.7047,     0.70571,     0.70671,     0.70771,     0.70871,     0.70971,     0.71071,     0.71171,     0.71271,     0.71371,     0.71471,     0.71572,     0.71672,     0.71772,     0.71872,     0.71972,\n",
              "           0.72072,     0.72172,     0.72272,     0.72372,     0.72472,     0.72573,     0.72673,     0.72773,     0.72873,     0.72973,     0.73073,     0.73173,     0.73273,     0.73373,     0.73473,     0.73574,     0.73674,     0.73774,     0.73874,     0.73974,     0.74074,     0.74174,     0.74274,     0.74374,\n",
              "           0.74474,     0.74575,     0.74675,     0.74775,     0.74875,     0.74975,     0.75075,     0.75175,     0.75275,     0.75375,     0.75475,     0.75576,     0.75676,     0.75776,     0.75876,     0.75976,     0.76076,     0.76176,     0.76276,     0.76376,     0.76476,     0.76577,     0.76677,     0.76777,\n",
              "           0.76877,     0.76977,     0.77077,     0.77177,     0.77277,     0.77377,     0.77477,     0.77578,     0.77678,     0.77778,     0.77878,     0.77978,     0.78078,     0.78178,     0.78278,     0.78378,     0.78478,     0.78579,     0.78679,     0.78779,     0.78879,     0.78979,     0.79079,     0.79179,\n",
              "           0.79279,     0.79379,     0.79479,      0.7958,      0.7968,      0.7978,      0.7988,      0.7998,      0.8008,      0.8018,      0.8028,      0.8038,      0.8048,     0.80581,     0.80681,     0.80781,     0.80881,     0.80981,     0.81081,     0.81181,     0.81281,     0.81381,     0.81481,     0.81582,\n",
              "           0.81682,     0.81782,     0.81882,     0.81982,     0.82082,     0.82182,     0.82282,     0.82382,     0.82482,     0.82583,     0.82683,     0.82783,     0.82883,     0.82983,     0.83083,     0.83183,     0.83283,     0.83383,     0.83483,     0.83584,     0.83684,     0.83784,     0.83884,     0.83984,\n",
              "           0.84084,     0.84184,     0.84284,     0.84384,     0.84484,     0.84585,     0.84685,     0.84785,     0.84885,     0.84985,     0.85085,     0.85185,     0.85285,     0.85385,     0.85485,     0.85586,     0.85686,     0.85786,     0.85886,     0.85986,     0.86086,     0.86186,     0.86286,     0.86386,\n",
              "           0.86486,     0.86587,     0.86687,     0.86787,     0.86887,     0.86987,     0.87087,     0.87187,     0.87287,     0.87387,     0.87487,     0.87588,     0.87688,     0.87788,     0.87888,     0.87988,     0.88088,     0.88188,     0.88288,     0.88388,     0.88488,     0.88589,     0.88689,     0.88789,\n",
              "           0.88889,     0.88989,     0.89089,     0.89189,     0.89289,     0.89389,     0.89489,      0.8959,      0.8969,      0.8979,      0.8989,      0.8999,      0.9009,      0.9019,      0.9029,      0.9039,      0.9049,     0.90591,     0.90691,     0.90791,     0.90891,     0.90991,     0.91091,     0.91191,\n",
              "           0.91291,     0.91391,     0.91491,     0.91592,     0.91692,     0.91792,     0.91892,     0.91992,     0.92092,     0.92192,     0.92292,     0.92392,     0.92492,     0.92593,     0.92693,     0.92793,     0.92893,     0.92993,     0.93093,     0.93193,     0.93293,     0.93393,     0.93493,     0.93594,\n",
              "           0.93694,     0.93794,     0.93894,     0.93994,     0.94094,     0.94194,     0.94294,     0.94394,     0.94494,     0.94595,     0.94695,     0.94795,     0.94895,     0.94995,     0.95095,     0.95195,     0.95295,     0.95395,     0.95495,     0.95596,     0.95696,     0.95796,     0.95896,     0.95996,\n",
              "           0.96096,     0.96196,     0.96296,     0.96396,     0.96496,     0.96597,     0.96697,     0.96797,     0.96897,     0.96997,     0.97097,     0.97197,     0.97297,     0.97397,     0.97497,     0.97598,     0.97698,     0.97798,     0.97898,     0.97998,     0.98098,     0.98198,     0.98298,     0.98398,\n",
              "           0.98498,     0.98599,     0.98699,     0.98799,     0.98899,     0.98999,     0.99099,     0.99199,     0.99299,     0.99399,     0.99499,       0.996,       0.997,       0.998,       0.999,           1]), array([[    0.98739,     0.98739,     0.98499,     0.98259,     0.98139,     0.98079,     0.98079,     0.97899,     0.97839,     0.97779,     0.97719,     0.97659,     0.97599,     0.97599,     0.97599,     0.97539,     0.97539,     0.97479,     0.97479,     0.97479,     0.97419,     0.97359,     0.97299,\n",
              "            0.97239,     0.97179,     0.97179,     0.97179,     0.97179,     0.97059,     0.96999,     0.96999,     0.96939,     0.96939,     0.96939,     0.96939,     0.96879,     0.96879,     0.96879,     0.96879,     0.96879,     0.96879,     0.96879,     0.96879,     0.96819,     0.96819,     0.96819,\n",
              "            0.96819,     0.96819,     0.96819,     0.96759,     0.96759,     0.96759,     0.96759,     0.96759,     0.96759,     0.96759,     0.96759,     0.96759,     0.96699,     0.96699,     0.96639,     0.96639,     0.96639,     0.96639,     0.96639,     0.96639,     0.96639,     0.96639,     0.96579,\n",
              "            0.96519,     0.96519,     0.96519,     0.96519,     0.96459,       0.964,     0.96339,     0.96339,     0.96339,     0.96339,     0.96279,     0.96279,     0.96279,     0.96279,     0.96279,     0.96279,     0.96279,     0.96279,     0.96279,     0.96279,     0.96279,     0.96279,     0.96279,\n",
              "            0.96279,     0.96279,      0.9627,     0.96218,     0.96218,     0.96158,     0.96158,     0.96098,     0.96098,     0.96098,     0.96038,     0.96038,     0.96038,     0.96038,     0.95978,     0.95978,     0.95978,     0.95978,     0.95978,     0.95897,     0.95858,     0.95858,     0.95798,\n",
              "            0.95798,     0.95798,     0.95798,     0.95798,     0.95798,     0.95798,     0.95798,     0.95798,     0.95798,     0.95798,     0.95737,     0.95618,     0.95618,     0.95618,     0.95618,     0.95618,     0.95618,     0.95558,     0.95558,     0.95498,     0.95498,     0.95498,     0.95438,\n",
              "            0.95438,     0.95438,     0.95438,     0.95438,     0.95438,     0.95378,     0.95378,     0.95378,     0.95378,     0.95378,     0.95378,     0.95378,     0.95378,     0.95378,     0.95378,     0.95378,     0.95378,     0.95258,     0.95258,     0.95258,     0.95258,     0.95258,     0.95258,\n",
              "            0.95258,     0.95258,     0.95258,     0.95236,     0.95198,     0.95198,     0.95198,     0.95198,     0.95126,     0.95091,     0.95073,     0.95038,     0.95018,     0.95018,     0.95018,     0.95018,     0.95018,     0.95018,     0.94958,     0.94958,     0.94958,     0.94898,     0.94898,\n",
              "            0.94838,     0.94838,     0.94838,     0.94838,     0.94838,     0.94838,     0.94838,     0.94838,     0.94838,     0.94838,     0.94838,     0.94838,     0.94838,     0.94838,      0.9483,     0.94778,     0.94778,     0.94778,     0.94759,     0.94715,     0.94683,     0.94647,     0.94602,\n",
              "            0.94598,     0.94598,     0.94598,     0.94598,     0.94598,     0.94598,     0.94554,     0.94538,     0.94489,     0.94438,     0.94418,     0.94413,     0.94391,     0.94369,     0.94358,     0.94358,     0.94358,     0.94358,     0.94358,     0.94298,     0.94298,     0.94291,     0.94238,\n",
              "            0.94238,     0.94238,     0.94238,     0.94238,     0.94238,     0.94238,     0.94205,     0.94118,     0.94118,     0.94069,     0.94058,     0.93998,     0.93878,     0.93878,     0.93878,     0.93878,     0.93878,     0.93878,     0.93878,     0.93878,     0.93878,     0.93878,     0.93878,\n",
              "            0.93871,     0.93808,     0.93781,     0.93758,     0.93723,     0.93697,     0.93697,     0.93685,     0.93661,     0.93637,     0.93611,     0.93577,     0.93577,     0.93577,      0.9355,     0.93517,     0.93517,     0.93517,     0.93517,     0.93517,     0.93517,     0.93517,     0.93517,\n",
              "            0.93517,     0.93517,     0.93517,     0.93517,     0.93517,     0.93517,     0.93517,     0.93517,     0.93517,     0.93517,     0.93517,     0.93517,     0.93517,     0.93517,     0.93517,     0.93517,     0.93517,     0.93517,     0.93517,     0.93517,     0.93511,     0.93496,     0.93481,\n",
              "            0.93465,     0.93427,     0.93379,     0.93344,     0.93304,     0.93265,      0.9323,     0.93217,     0.93217,     0.93157,     0.93149,     0.93114,     0.93097,     0.93097,     0.93097,     0.93097,     0.93097,     0.93097,     0.93043,     0.93037,     0.93037,     0.93037,     0.93037,\n",
              "            0.93037,     0.93037,     0.93037,     0.93037,     0.93037,     0.93037,     0.93037,     0.93037,     0.93037,     0.93037,     0.93037,     0.93037,     0.93037,     0.93037,     0.92983,     0.92977,     0.92975,     0.92967,     0.92958,      0.9295,     0.92942,     0.92933,     0.92925,\n",
              "            0.92917,     0.92917,     0.92882,     0.92857,     0.92857,     0.92857,     0.92857,     0.92857,     0.92787,     0.92756,     0.92737,     0.92723,       0.927,     0.92678,     0.92677,     0.92677,     0.92677,     0.92677,      0.9265,     0.92617,     0.92617,     0.92617,     0.92617,\n",
              "            0.92617,     0.92559,     0.92497,     0.92497,     0.92497,      0.9247,     0.92437,     0.92437,     0.92437,     0.92437,     0.92437,     0.92437,     0.92437,     0.92437,     0.92437,     0.92437,     0.92377,     0.92346,     0.92297,     0.92266,     0.92257,     0.92257,     0.92077,\n",
              "            0.92077,     0.92077,     0.92077,     0.92077,     0.92077,     0.92077,     0.92077,     0.92077,     0.92077,     0.92077,     0.92077,     0.92077,     0.92077,     0.92077,     0.92077,     0.92077,     0.92077,     0.92074,     0.92062,      0.9205,     0.92037,     0.92025,     0.91997,\n",
              "            0.91957,     0.91957,     0.91957,     0.91897,     0.91897,     0.91897,     0.91897,     0.91897,     0.91897,     0.91879,     0.91856,     0.91837,     0.91832,     0.91801,     0.91714,     0.91698,     0.91683,     0.91667,     0.91657,     0.91657,     0.91657,     0.91657,     0.91657,\n",
              "            0.91657,     0.91657,     0.91635,     0.91604,     0.91597,     0.91597,     0.91597,     0.91524,     0.91508,     0.91493,     0.91478,     0.91477,     0.91477,     0.91477,     0.91477,     0.91477,     0.91477,     0.91477,     0.91477,     0.91477,     0.91477,     0.91477,     0.91477,\n",
              "            0.91477,     0.91477,     0.91477,     0.91477,     0.91477,     0.91464,     0.91443,     0.91423,     0.91417,     0.91357,     0.91357,     0.91357,     0.91308,     0.91246,     0.91236,     0.91183,     0.91176,     0.91056,     0.91056,     0.91056,     0.91056,     0.90996,     0.90996,\n",
              "            0.90996,     0.90996,     0.90996,     0.90996,     0.90936,     0.90876,     0.90876,     0.90861,     0.90808,     0.90777,     0.90696,     0.90696,     0.90696,     0.90672,     0.90636,     0.90636,     0.90636,     0.90621,      0.9059,     0.90576,     0.90576,     0.90516,     0.90497,\n",
              "            0.90466,     0.90456,     0.90456,     0.90456,     0.90456,     0.90456,     0.90456,     0.90456,     0.90456,     0.90456,     0.90369,     0.90338,     0.90336,     0.90336,     0.90275,     0.90215,     0.90195,     0.90174,     0.90156,     0.90092,     0.90061,     0.90025,     0.89976,\n",
              "            0.89976,     0.89976,     0.89976,     0.89976,     0.89976,     0.89965,     0.89934,     0.89916,     0.89847,     0.89827,     0.89806,     0.89791,     0.89781,      0.8977,      0.8976,      0.8975,      0.8974,     0.89736,     0.89736,     0.89714,     0.89684,     0.89653,     0.89622,\n",
              "            0.89567,     0.89556,     0.89556,     0.89556,     0.89556,     0.89556,     0.89468,     0.89421,      0.8939,      0.8937,      0.8936,      0.8935,      0.8934,     0.89329,     0.89319,     0.89274,     0.89213,     0.89151,      0.8909,     0.89052,     0.89021,     0.88965,     0.88948,\n",
              "            0.88939,     0.88931,     0.88922,     0.88913,     0.88904,     0.88896,     0.88894,     0.88853,     0.88836,     0.88831,     0.88823,     0.88816,     0.88808,       0.888,     0.88792,     0.88785,     0.88777,     0.88776,     0.88776,      0.8875,     0.88719,     0.88559,     0.88509,\n",
              "            0.88351,      0.8834,      0.8833,      0.8832,      0.8831,     0.88299,     0.88217,     0.88186,     0.88135,     0.88113,     0.88101,     0.88088,     0.88076,     0.88064,     0.88049,     0.88028,     0.88008,     0.87989,     0.87971,     0.87953,     0.87936,     0.87876,     0.87845,\n",
              "            0.87815,     0.87815,     0.87815,     0.87815,     0.87815,     0.87775,     0.87714,     0.87652,      0.8762,       0.876,     0.87579,     0.87395,     0.87385,     0.87354,     0.87311,     0.87078,     0.87037,     0.86886,     0.86855,     0.86794,     0.86734,     0.86709,     0.86684,\n",
              "            0.86578,     0.86516,     0.86395,     0.86238,     0.86213,     0.86134,     0.86129,     0.86109,     0.86088,     0.86069,     0.86051,     0.86033,     0.86016,     0.85992,     0.85967,     0.85946,     0.85928,     0.85911,     0.85833,      0.8582,     0.85806,     0.85792,     0.85779,\n",
              "            0.85733,     0.85671,     0.85625,     0.85518,     0.85337,     0.85275,     0.85133,     0.85037,     0.85016,     0.84996,     0.84994,     0.84874,     0.84844,     0.84793,     0.84751,     0.84632,     0.84608,     0.84583,     0.84475,     0.84414,     0.84322,     0.84265,     0.84224,\n",
              "            0.84168,     0.84146,     0.84135,     0.84125,     0.84115,     0.84105,     0.84094,     0.84056,     0.84006,     0.83884,     0.83732,     0.83611,     0.83491,      0.8345,     0.83349,     0.83305,     0.83123,      0.8293,      0.8279,     0.82669,     0.82397,     0.82353,       0.821,\n",
              "            0.82059,     0.81898,     0.81609,     0.81376,     0.81335,     0.81273,     0.81183,     0.81061,     0.81016,     0.80985,     0.80937,     0.80755,     0.80544,     0.80472,     0.80391,     0.80239,     0.80057,      0.7998,     0.79844,     0.79633,     0.79491,     0.79446,     0.79415,\n",
              "            0.79267,     0.79154,     0.79113,     0.78902,     0.78731,     0.78626,     0.78537,     0.78488,     0.78444,     0.78326,     0.78285,      0.7814,     0.78005,     0.77867,     0.77655,     0.77576,     0.77502,      0.7735,     0.77207,     0.76957,     0.76531,     0.76474,     0.76082,\n",
              "            0.75751,     0.75589,     0.75377,     0.75352,     0.75319,     0.75245,     0.75073,      0.7493,     0.74538,     0.74463,     0.74244,     0.74219,     0.74195,      0.7399,     0.73869,     0.73747,     0.73542,     0.73294,     0.73176,     0.73051,      0.7257,     0.72364,      0.7234,\n",
              "            0.72206,     0.72165,     0.71872,     0.71643,     0.71228,     0.71087,     0.70802,     0.70544,     0.70157,     0.70116,      0.6971,     0.69457,     0.69223,     0.68854,     0.68437,     0.68041,     0.67771,     0.67437,     0.66924,     0.66444,     0.66138,     0.65486,     0.65269,\n",
              "            0.65109,     0.64636,     0.64322,     0.63659,     0.63281,     0.62753,     0.62227,     0.62026,     0.61123,     0.60842,     0.60397,     0.59853,     0.59037,     0.58587,     0.57984,     0.57142,     0.57077,     0.56294,     0.55751,     0.55485,     0.54904,     0.54181,      0.5359,\n",
              "            0.53155,     0.52552,     0.51588,     0.50985,     0.50431,     0.49658,     0.49055,     0.48152,     0.47308,     0.46792,     0.46642,     0.45979,     0.44655,     0.43872,     0.43149,     0.42125,     0.41342,      0.4069,     0.40649,     0.40133,     0.39529,     0.38746,     0.37903,\n",
              "            0.37419,     0.36936,     0.36153,      0.3555,     0.34526,     0.34103,      0.3344,     0.32176,     0.31573,     0.29769,     0.28926,     0.28383,     0.27599,     0.26516,     0.25853,      0.2549,     0.24466,     0.23383,      0.2278,     0.22236,     0.20913,     0.19949,     0.18866,\n",
              "            0.17782,     0.16819,     0.15856,     0.15192,     0.14889,     0.14406,     0.13563,     0.12839,     0.12356,     0.11873,      0.1079,     0.10366,    0.099837,    0.097002,    0.087368,    0.082536,    0.076504,     0.06567,    0.060237,    0.053513,    0.052898,    0.046942,    0.044511,\n",
              "           0.039679,    0.037248,    0.031816,    0.029385,    0.027554,    0.026323,    0.022092,    0.020261,     0.01723,    0.015999,    0.012786,    0.010537,   0.0083042,    0.007894,   0.0052234,   0.0047244,   0.0044783,   0.0042322,    0.004022,   0.0038169,   0.0036119,   0.0030174,   0.0027017,\n",
              "          0.0017869,   0.0011861,  0.00087843,           0,           0,           0,           0,           0,           0,           0,           0,           0,           0,           0,           0,           0,           0,           0,           0,           0,           0,           0,           0,\n",
              "                  0,           0,           0,           0,           0,           0,           0,           0,           0,           0,           0,           0,           0,           0,           0,           0,           0,           0,           0,           0,           0,           0,           0,\n",
              "                  0,           0,           0,           0,           0,           0,           0,           0,           0,           0,           0,           0,           0,           0,           0,           0,           0,           0,           0,           0,           0,           0,           0,\n",
              "                  0,           0,           0,           0,           0,           0,           0,           0,           0,           0,           0]]), 'Confidence', 'Recall']]\n",
              "fitness: np.float64(0.7402805245449892)\n",
              "keys: ['metrics/precision(B)', 'metrics/recall(B)', 'metrics/mAP50(B)', 'metrics/mAP50-95(B)']\n",
              "maps: array([    0.71505])\n",
              "names: {0: 'person'}\n",
              "plot: True\n",
              "results_dict: {'metrics/precision(B)': np.float64(0.9636963019704583), 'metrics/recall(B)': np.float64(0.904561824729892), 'metrics/mAP50(B)': np.float64(0.9673229594950818), 'metrics/mAP50-95(B)': np.float64(0.7150535873283121), 'fitness': np.float64(0.7402805245449892)}\n",
              "save_dir: PosixPath('runs/detect/train')\n",
              "speed: {'preprocess': 0.3332241660044616, 'inference': 9.710203764822868, 'loss': 0.0010378320162683097, 'postprocess': 1.9953729920964876}\n",
              "task: 'detect'"
            ]
          },
          "metadata": {},
          "execution_count": 4
        }
      ]
    }
  ]
}